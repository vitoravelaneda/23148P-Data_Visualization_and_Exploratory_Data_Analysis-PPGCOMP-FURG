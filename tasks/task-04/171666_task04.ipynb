{
 "cells": [
  {
   "cell_type": "markdown",
   "id": "c4b0508c",
   "metadata": {},
   "source": [
    "# PPGCOMP - FURG | 23148P - Data Visualization and Exploratory Data Analysis | 02/2024 \n",
    "This notebook contains the solution for Task 04 of the course 23148P - Data Visualization and Exploratory Data Analysis - 02/2024 of the Graduate Program in Computing at FURG (PPGCOMP-FURG).\n",
    "\n",
    "**Professor:** Dr. Adriano Velasque Werhli.\n",
    "\n",
    "**Student:** Vitor Avelaneda.\n",
    "\n",
    "* **Contact:** avelaneda.vitor@gmail.com\n",
    "\n",
    "The repository with the notebooks can be accessed [here!](https://github.com/vitoravelaneda/23148P-Data_Visualization_and_Exploratory_Data_Analysis-PPGCOMP-FURG)"
   ]
  },
  {
   "cell_type": "markdown",
   "id": "42241d1c",
   "metadata": {},
   "source": [
    "## Task:\n",
    "\n",
    "In the zip file you find a data set and a graph that was produced with this data set. For producing this graph the data has to go through some transformations using functions like:\n",
    "\n",
    "pivot_longer(), separate_wider_delim(),  pivot_wider()\n",
    "\n",
    "Try to produce [the same graph](./basketball/basketball.pdf) and handle the R code as the result. "
   ]
  },
  {
   "cell_type": "markdown",
   "id": "381d4025",
   "metadata": {},
   "source": [
    "## Solution"
   ]
  },
  {
   "cell_type": "markdown",
   "id": "1572caaf",
   "metadata": {},
   "source": [
    "**Package Installation and Loading:**\n",
    "\n",
    "Install packages if not already installed"
   ]
  },
  {
   "cell_type": "code",
   "execution_count": 1,
   "id": "68cecca8",
   "metadata": {
    "vscode": {
     "languageId": "r"
    }
   },
   "outputs": [],
   "source": [
    "if (!requireNamespace(\"readr\", quietly = TRUE)) install.packages(\"readr\")\n",
    "if (!requireNamespace(\"tidyverse\", quietly = TRUE)) install.packages(\"tidyverse\")\n",
    "if (!requireNamespace(\"ggplot2\", quietly = TRUE)) install.packages(\"ggplot2\")"
   ]
  },
  {
   "cell_type": "markdown",
   "id": "5b895a6f",
   "metadata": {},
   "source": [
    "Load the necessary libraries\n"
   ]
  },
  {
   "cell_type": "code",
   "execution_count": 2,
   "id": "937f9370",
   "metadata": {
    "vscode": {
     "languageId": "r"
    }
   },
   "outputs": [
    {
     "name": "stderr",
     "output_type": "stream",
     "text": [
      "── \u001b[1mAttaching core tidyverse packages\u001b[22m ──────────────────────── tidyverse 2.0.0 ──\n",
      "\u001b[32m✔\u001b[39m \u001b[34mdplyr    \u001b[39m 1.1.4     \u001b[32m✔\u001b[39m \u001b[34mpurrr    \u001b[39m 1.0.2\n",
      "\u001b[32m✔\u001b[39m \u001b[34mforcats  \u001b[39m 1.0.0     \u001b[32m✔\u001b[39m \u001b[34mstringr  \u001b[39m 1.5.1\n",
      "\u001b[32m✔\u001b[39m \u001b[34mggplot2  \u001b[39m 3.5.1     \u001b[32m✔\u001b[39m \u001b[34mtibble   \u001b[39m 3.2.1\n",
      "\u001b[32m✔\u001b[39m \u001b[34mlubridate\u001b[39m 1.9.3     \u001b[32m✔\u001b[39m \u001b[34mtidyr    \u001b[39m 1.3.1\n",
      "── \u001b[1mConflicts\u001b[22m ────────────────────────────────────────── tidyverse_conflicts() ──\n",
      "\u001b[31m✖\u001b[39m \u001b[34mdplyr\u001b[39m::\u001b[32mfilter()\u001b[39m masks \u001b[34mstats\u001b[39m::filter()\n",
      "\u001b[31m✖\u001b[39m \u001b[34mdplyr\u001b[39m::\u001b[32mlag()\u001b[39m    masks \u001b[34mstats\u001b[39m::lag()\n",
      "\u001b[36mℹ\u001b[39m Use the conflicted package (\u001b[3m\u001b[34m<http://conflicted.r-lib.org/>\u001b[39m\u001b[23m) to force all conflicts to become errors\n"
     ]
    }
   ],
   "source": [
    "library(readr)\n",
    "library(tidyverse)\n",
    "library(ggplot2)"
   ]
  },
  {
   "cell_type": "markdown",
   "id": "ef202ead",
   "metadata": {},
   "source": [
    "**Reading the Data:**"
   ]
  },
  {
   "cell_type": "code",
   "execution_count": 3,
   "id": "3ab0afa8",
   "metadata": {
    "vscode": {
     "languageId": "r"
    }
   },
   "outputs": [
    {
     "name": "stderr",
     "output_type": "stream",
     "text": [
      "\u001b[1mRows: \u001b[22m\u001b[34m16\u001b[39m \u001b[1mColumns: \u001b[22m\u001b[34m5\u001b[39m\n",
      "\u001b[36m──\u001b[39m \u001b[1mColumn specification\u001b[22m \u001b[36m────────────────────────────────────────────────────────\u001b[39m\n",
      "\u001b[1mDelimiter:\u001b[22m \",\"\n",
      "\u001b[31mchr\u001b[39m (3): male.player, female.player, stat\n",
      "\u001b[32mdbl\u001b[39m (2): year, amount\n",
      "\n",
      "\u001b[36mℹ\u001b[39m Use `spec()` to retrieve the full column specification for this data.\n",
      "\u001b[36mℹ\u001b[39m Specify the column types or set `show_col_types = FALSE` to quiet this message.\n"
     ]
    }
   ],
   "source": [
    "my.data <- read_csv(\"./basketball/Basketball.csv\")"
   ]
  },
  {
   "cell_type": "markdown",
   "id": "dde25c51",
   "metadata": {},
   "source": [
    "**Inspecting the Data:**"
   ]
  },
  {
   "cell_type": "code",
   "execution_count": 4,
   "id": "79cdf6b1",
   "metadata": {
    "vscode": {
     "languageId": "r"
    }
   },
   "outputs": [
    {
     "data": {
      "text/html": [
       "<table class=\"dataframe\">\n",
       "<caption>A tibble: 6 × 5</caption>\n",
       "<thead>\n",
       "\t<tr><th scope=col>male.player</th><th scope=col>female.player</th><th scope=col>year</th><th scope=col>stat</th><th scope=col>amount</th></tr>\n",
       "\t<tr><th scope=col>&lt;chr&gt;</th><th scope=col>&lt;chr&gt;</th><th scope=col>&lt;dbl&gt;</th><th scope=col>&lt;chr&gt;</th><th scope=col>&lt;dbl&gt;</th></tr>\n",
       "</thead>\n",
       "<tbody>\n",
       "\t<tr><td>A</td><td>E</td><td>1</td><td>points </td><td>14</td></tr>\n",
       "\t<tr><td>A</td><td>E</td><td>1</td><td>assists</td><td> 6</td></tr>\n",
       "\t<tr><td>A</td><td>E</td><td>2</td><td>points </td><td>18</td></tr>\n",
       "\t<tr><td>A</td><td>E</td><td>2</td><td>assists</td><td> 7</td></tr>\n",
       "\t<tr><td>B</td><td>F</td><td>1</td><td>points </td><td>22</td></tr>\n",
       "\t<tr><td>B</td><td>F</td><td>1</td><td>assists</td><td> 9</td></tr>\n",
       "</tbody>\n",
       "</table>\n"
      ],
      "text/latex": [
       "A tibble: 6 × 5\n",
       "\\begin{tabular}{lllll}\n",
       " male.player & female.player & year & stat & amount\\\\\n",
       " <chr> & <chr> & <dbl> & <chr> & <dbl>\\\\\n",
       "\\hline\n",
       "\t A & E & 1 & points  & 14\\\\\n",
       "\t A & E & 1 & assists &  6\\\\\n",
       "\t A & E & 2 & points  & 18\\\\\n",
       "\t A & E & 2 & assists &  7\\\\\n",
       "\t B & F & 1 & points  & 22\\\\\n",
       "\t B & F & 1 & assists &  9\\\\\n",
       "\\end{tabular}\n"
      ],
      "text/markdown": [
       "\n",
       "A tibble: 6 × 5\n",
       "\n",
       "| male.player &lt;chr&gt; | female.player &lt;chr&gt; | year &lt;dbl&gt; | stat &lt;chr&gt; | amount &lt;dbl&gt; |\n",
       "|---|---|---|---|---|\n",
       "| A | E | 1 | points  | 14 |\n",
       "| A | E | 1 | assists |  6 |\n",
       "| A | E | 2 | points  | 18 |\n",
       "| A | E | 2 | assists |  7 |\n",
       "| B | F | 1 | points  | 22 |\n",
       "| B | F | 1 | assists |  9 |\n",
       "\n"
      ],
      "text/plain": [
       "  male.player female.player year stat    amount\n",
       "1 A           E             1    points  14    \n",
       "2 A           E             1    assists  6    \n",
       "3 A           E             2    points  18    \n",
       "4 A           E             2    assists  7    \n",
       "5 B           F             1    points  22    \n",
       "6 B           F             1    assists  9    "
      ]
     },
     "metadata": {},
     "output_type": "display_data"
    },
    {
     "data": {
      "text/html": [
       "<table class=\"dataframe\">\n",
       "<caption>A spec_tbl_df: 16 × 5</caption>\n",
       "<thead>\n",
       "\t<tr><th scope=col>male.player</th><th scope=col>female.player</th><th scope=col>year</th><th scope=col>stat</th><th scope=col>amount</th></tr>\n",
       "\t<tr><th scope=col>&lt;chr&gt;</th><th scope=col>&lt;chr&gt;</th><th scope=col>&lt;dbl&gt;</th><th scope=col>&lt;chr&gt;</th><th scope=col>&lt;dbl&gt;</th></tr>\n",
       "</thead>\n",
       "<tbody>\n",
       "\t<tr><td>A</td><td>E</td><td>1</td><td>points </td><td>14</td></tr>\n",
       "\t<tr><td>A</td><td>E</td><td>1</td><td>assists</td><td> 6</td></tr>\n",
       "\t<tr><td>A</td><td>E</td><td>2</td><td>points </td><td>18</td></tr>\n",
       "\t<tr><td>A</td><td>E</td><td>2</td><td>assists</td><td> 7</td></tr>\n",
       "\t<tr><td>B</td><td>F</td><td>1</td><td>points </td><td>22</td></tr>\n",
       "\t<tr><td>B</td><td>F</td><td>1</td><td>assists</td><td> 9</td></tr>\n",
       "\t<tr><td>B</td><td>F</td><td>2</td><td>points </td><td>38</td></tr>\n",
       "\t<tr><td>B</td><td>F</td><td>2</td><td>assists</td><td> 4</td></tr>\n",
       "\t<tr><td>C</td><td>G</td><td>1</td><td>points </td><td>16</td></tr>\n",
       "\t<tr><td>C</td><td>G</td><td>1</td><td>assists</td><td> 5</td></tr>\n",
       "\t<tr><td>C</td><td>G</td><td>2</td><td>points </td><td>21</td></tr>\n",
       "\t<tr><td>C</td><td>G</td><td>2</td><td>assists</td><td> 6</td></tr>\n",
       "\t<tr><td>D</td><td>H</td><td>1</td><td>points </td><td>20</td></tr>\n",
       "\t<tr><td>D</td><td>H</td><td>1</td><td>assists</td><td> 5</td></tr>\n",
       "\t<tr><td>D</td><td>H</td><td>2</td><td>points </td><td>21</td></tr>\n",
       "\t<tr><td>D</td><td>H</td><td>2</td><td>assists</td><td> 8</td></tr>\n",
       "</tbody>\n",
       "</table>\n"
      ],
      "text/latex": [
       "A spec\\_tbl\\_df: 16 × 5\n",
       "\\begin{tabular}{lllll}\n",
       " male.player & female.player & year & stat & amount\\\\\n",
       " <chr> & <chr> & <dbl> & <chr> & <dbl>\\\\\n",
       "\\hline\n",
       "\t A & E & 1 & points  & 14\\\\\n",
       "\t A & E & 1 & assists &  6\\\\\n",
       "\t A & E & 2 & points  & 18\\\\\n",
       "\t A & E & 2 & assists &  7\\\\\n",
       "\t B & F & 1 & points  & 22\\\\\n",
       "\t B & F & 1 & assists &  9\\\\\n",
       "\t B & F & 2 & points  & 38\\\\\n",
       "\t B & F & 2 & assists &  4\\\\\n",
       "\t C & G & 1 & points  & 16\\\\\n",
       "\t C & G & 1 & assists &  5\\\\\n",
       "\t C & G & 2 & points  & 21\\\\\n",
       "\t C & G & 2 & assists &  6\\\\\n",
       "\t D & H & 1 & points  & 20\\\\\n",
       "\t D & H & 1 & assists &  5\\\\\n",
       "\t D & H & 2 & points  & 21\\\\\n",
       "\t D & H & 2 & assists &  8\\\\\n",
       "\\end{tabular}\n"
      ],
      "text/markdown": [
       "\n",
       "A spec_tbl_df: 16 × 5\n",
       "\n",
       "| male.player &lt;chr&gt; | female.player &lt;chr&gt; | year &lt;dbl&gt; | stat &lt;chr&gt; | amount &lt;dbl&gt; |\n",
       "|---|---|---|---|---|\n",
       "| A | E | 1 | points  | 14 |\n",
       "| A | E | 1 | assists |  6 |\n",
       "| A | E | 2 | points  | 18 |\n",
       "| A | E | 2 | assists |  7 |\n",
       "| B | F | 1 | points  | 22 |\n",
       "| B | F | 1 | assists |  9 |\n",
       "| B | F | 2 | points  | 38 |\n",
       "| B | F | 2 | assists |  4 |\n",
       "| C | G | 1 | points  | 16 |\n",
       "| C | G | 1 | assists |  5 |\n",
       "| C | G | 2 | points  | 21 |\n",
       "| C | G | 2 | assists |  6 |\n",
       "| D | H | 1 | points  | 20 |\n",
       "| D | H | 1 | assists |  5 |\n",
       "| D | H | 2 | points  | 21 |\n",
       "| D | H | 2 | assists |  8 |\n",
       "\n"
      ],
      "text/plain": [
       "   male.player female.player year stat    amount\n",
       "1  A           E             1    points  14    \n",
       "2  A           E             1    assists  6    \n",
       "3  A           E             2    points  18    \n",
       "4  A           E             2    assists  7    \n",
       "5  B           F             1    points  22    \n",
       "6  B           F             1    assists  9    \n",
       "7  B           F             2    points  38    \n",
       "8  B           F             2    assists  4    \n",
       "9  C           G             1    points  16    \n",
       "10 C           G             1    assists  5    \n",
       "11 C           G             2    points  21    \n",
       "12 C           G             2    assists  6    \n",
       "13 D           H             1    points  20    \n",
       "14 D           H             1    assists  5    \n",
       "15 D           H             2    points  21    \n",
       "16 D           H             2    assists  8    "
      ]
     },
     "metadata": {},
     "output_type": "display_data"
    },
    {
     "name": "stdout",
     "output_type": "stream",
     "text": [
      "Rows: 16\n",
      "Columns: 5\n",
      "$ male.player   \u001b[3m\u001b[90m<chr>\u001b[39m\u001b[23m \"A\", \"A\", \"A\", \"A\", \"B\", \"B\", \"B\", \"B\", \"C\", \"C\", \"C\", \"…\n",
      "$ female.player \u001b[3m\u001b[90m<chr>\u001b[39m\u001b[23m \"E\", \"E\", \"E\", \"E\", \"F\", \"F\", \"F\", \"F\", \"G\", \"G\", \"G\", \"…\n",
      "$ year          \u001b[3m\u001b[90m<dbl>\u001b[39m\u001b[23m 1, 1, 2, 2, 1, 1, 2, 2, 1, 1, 2, 2, 1, 1, 2, 2\n",
      "$ stat          \u001b[3m\u001b[90m<chr>\u001b[39m\u001b[23m \"points\", \"assists\", \"points\", \"assists\", \"points\", \"ass…\n",
      "$ amount        \u001b[3m\u001b[90m<dbl>\u001b[39m\u001b[23m 14, 6, 18, 7, 22, 9, 38, 4, 16, 5, 21, 6, 20, 5, 21, 8\n"
     ]
    }
   ],
   "source": [
    "head(my.data)\n",
    "View(my.data)\n",
    "glimpse(my.data)"
   ]
  },
  {
   "cell_type": "markdown",
   "id": "284d4815",
   "metadata": {},
   "source": [
    "**Tidying the Data:**\n",
    "\n",
    "Transforming the data to a long format and relabeling gender"
   ]
  },
  {
   "cell_type": "code",
   "execution_count": 5,
   "id": "a6af07d6",
   "metadata": {
    "vscode": {
     "languageId": "r"
    }
   },
   "outputs": [],
   "source": [
    "my_data_tidy <- my.data %>%\n",
    "  pivot_longer(cols = c(female.player, male.player),    \n",
    "               names_to = \"gender\",                    \n",
    "               values_to = \"player\") %>%              \n",
    "  mutate(gender = ifelse(gender == \"female.player\", \"female\", \"male\"))"
   ]
  },
  {
   "cell_type": "markdown",
   "id": "92bbf13f",
   "metadata": {},
   "source": [
    "Spreading the data so that different statistics appear as separate columns"
   ]
  },
  {
   "cell_type": "code",
   "execution_count": 6,
   "id": "30f6dfa4",
   "metadata": {
    "vscode": {
     "languageId": "r"
    }
   },
   "outputs": [],
   "source": [
    "my_data_tidy <- my_data_tidy %>%\n",
    "  pivot_wider(names_from = stat,       \n",
    "              values_from = amount)"
   ]
  },
  {
   "cell_type": "markdown",
   "id": "feec935c",
   "metadata": {},
   "source": [
    "Grouping and arranging by player for easier visualization"
   ]
  },
  {
   "cell_type": "code",
   "execution_count": 7,
   "id": "4b6634ee",
   "metadata": {
    "vscode": {
     "languageId": "r"
    }
   },
   "outputs": [],
   "source": [
    "my_data_tidy <- my_data_tidy %>%\n",
    "  group_by(player) %>%  \n",
    "  arrange(player)"
   ]
  },
  {
   "cell_type": "markdown",
   "id": "0ba80aed",
   "metadata": {},
   "source": [
    "**Viewing the Transformed Data:**"
   ]
  },
  {
   "cell_type": "code",
   "execution_count": 8,
   "id": "6b96fbad",
   "metadata": {
    "vscode": {
     "languageId": "r"
    }
   },
   "outputs": [
    {
     "data": {
      "text/html": [
       "<table class=\"dataframe\">\n",
       "<caption>A grouped_df: 16 × 5</caption>\n",
       "<thead>\n",
       "\t<tr><th scope=col>year</th><th scope=col>gender</th><th scope=col>player</th><th scope=col>points</th><th scope=col>assists</th></tr>\n",
       "\t<tr><th scope=col>&lt;dbl&gt;</th><th scope=col>&lt;chr&gt;</th><th scope=col>&lt;chr&gt;</th><th scope=col>&lt;dbl&gt;</th><th scope=col>&lt;dbl&gt;</th></tr>\n",
       "</thead>\n",
       "<tbody>\n",
       "\t<tr><td>1</td><td>male  </td><td>A</td><td>14</td><td>6</td></tr>\n",
       "\t<tr><td>2</td><td>male  </td><td>A</td><td>18</td><td>7</td></tr>\n",
       "\t<tr><td>1</td><td>male  </td><td>B</td><td>22</td><td>9</td></tr>\n",
       "\t<tr><td>2</td><td>male  </td><td>B</td><td>38</td><td>4</td></tr>\n",
       "\t<tr><td>1</td><td>male  </td><td>C</td><td>16</td><td>5</td></tr>\n",
       "\t<tr><td>2</td><td>male  </td><td>C</td><td>21</td><td>6</td></tr>\n",
       "\t<tr><td>1</td><td>male  </td><td>D</td><td>20</td><td>5</td></tr>\n",
       "\t<tr><td>2</td><td>male  </td><td>D</td><td>21</td><td>8</td></tr>\n",
       "\t<tr><td>1</td><td>female</td><td>E</td><td>14</td><td>6</td></tr>\n",
       "\t<tr><td>2</td><td>female</td><td>E</td><td>18</td><td>7</td></tr>\n",
       "\t<tr><td>1</td><td>female</td><td>F</td><td>22</td><td>9</td></tr>\n",
       "\t<tr><td>2</td><td>female</td><td>F</td><td>38</td><td>4</td></tr>\n",
       "\t<tr><td>1</td><td>female</td><td>G</td><td>16</td><td>5</td></tr>\n",
       "\t<tr><td>2</td><td>female</td><td>G</td><td>21</td><td>6</td></tr>\n",
       "\t<tr><td>1</td><td>female</td><td>H</td><td>20</td><td>5</td></tr>\n",
       "\t<tr><td>2</td><td>female</td><td>H</td><td>21</td><td>8</td></tr>\n",
       "</tbody>\n",
       "</table>\n"
      ],
      "text/latex": [
       "A grouped\\_df: 16 × 5\n",
       "\\begin{tabular}{lllll}\n",
       " year & gender & player & points & assists\\\\\n",
       " <dbl> & <chr> & <chr> & <dbl> & <dbl>\\\\\n",
       "\\hline\n",
       "\t 1 & male   & A & 14 & 6\\\\\n",
       "\t 2 & male   & A & 18 & 7\\\\\n",
       "\t 1 & male   & B & 22 & 9\\\\\n",
       "\t 2 & male   & B & 38 & 4\\\\\n",
       "\t 1 & male   & C & 16 & 5\\\\\n",
       "\t 2 & male   & C & 21 & 6\\\\\n",
       "\t 1 & male   & D & 20 & 5\\\\\n",
       "\t 2 & male   & D & 21 & 8\\\\\n",
       "\t 1 & female & E & 14 & 6\\\\\n",
       "\t 2 & female & E & 18 & 7\\\\\n",
       "\t 1 & female & F & 22 & 9\\\\\n",
       "\t 2 & female & F & 38 & 4\\\\\n",
       "\t 1 & female & G & 16 & 5\\\\\n",
       "\t 2 & female & G & 21 & 6\\\\\n",
       "\t 1 & female & H & 20 & 5\\\\\n",
       "\t 2 & female & H & 21 & 8\\\\\n",
       "\\end{tabular}\n"
      ],
      "text/markdown": [
       "\n",
       "A grouped_df: 16 × 5\n",
       "\n",
       "| year &lt;dbl&gt; | gender &lt;chr&gt; | player &lt;chr&gt; | points &lt;dbl&gt; | assists &lt;dbl&gt; |\n",
       "|---|---|---|---|---|\n",
       "| 1 | male   | A | 14 | 6 |\n",
       "| 2 | male   | A | 18 | 7 |\n",
       "| 1 | male   | B | 22 | 9 |\n",
       "| 2 | male   | B | 38 | 4 |\n",
       "| 1 | male   | C | 16 | 5 |\n",
       "| 2 | male   | C | 21 | 6 |\n",
       "| 1 | male   | D | 20 | 5 |\n",
       "| 2 | male   | D | 21 | 8 |\n",
       "| 1 | female | E | 14 | 6 |\n",
       "| 2 | female | E | 18 | 7 |\n",
       "| 1 | female | F | 22 | 9 |\n",
       "| 2 | female | F | 38 | 4 |\n",
       "| 1 | female | G | 16 | 5 |\n",
       "| 2 | female | G | 21 | 6 |\n",
       "| 1 | female | H | 20 | 5 |\n",
       "| 2 | female | H | 21 | 8 |\n",
       "\n"
      ],
      "text/plain": [
       "   year gender player points assists\n",
       "1  1    male   A      14     6      \n",
       "2  2    male   A      18     7      \n",
       "3  1    male   B      22     9      \n",
       "4  2    male   B      38     4      \n",
       "5  1    male   C      16     5      \n",
       "6  2    male   C      21     6      \n",
       "7  1    male   D      20     5      \n",
       "8  2    male   D      21     8      \n",
       "9  1    female E      14     6      \n",
       "10 2    female E      18     7      \n",
       "11 1    female F      22     9      \n",
       "12 2    female F      38     4      \n",
       "13 1    female G      16     5      \n",
       "14 2    female G      21     6      \n",
       "15 1    female H      20     5      \n",
       "16 2    female H      21     8      "
      ]
     },
     "metadata": {},
     "output_type": "display_data"
    },
    {
     "name": "stdout",
     "output_type": "stream",
     "text": [
      "Rows: 16\n",
      "Columns: 5\n",
      "Groups: player [8]\n",
      "$ year    \u001b[3m\u001b[90m<dbl>\u001b[39m\u001b[23m 1, 2, 1, 2, 1, 2, 1, 2, 1, 2, 1, 2, 1, 2, 1, 2\n",
      "$ gender  \u001b[3m\u001b[90m<chr>\u001b[39m\u001b[23m \"male\", \"male\", \"male\", \"male\", \"male\", \"male\", \"male\", \"male\"…\n",
      "$ player  \u001b[3m\u001b[90m<chr>\u001b[39m\u001b[23m \"A\", \"A\", \"B\", \"B\", \"C\", \"C\", \"D\", \"D\", \"E\", \"E\", \"F\", \"F\", \"G…\n",
      "$ points  \u001b[3m\u001b[90m<dbl>\u001b[39m\u001b[23m 14, 18, 22, 38, 16, 21, 20, 21, 14, 18, 22, 38, 16, 21, 20, 21\n",
      "$ assists \u001b[3m\u001b[90m<dbl>\u001b[39m\u001b[23m 6, 7, 9, 4, 5, 6, 5, 8, 6, 7, 9, 4, 5, 6, 5, 8\n"
     ]
    }
   ],
   "source": [
    "View(my_data_tidy)\n",
    "glimpse(my_data_tidy)"
   ]
  },
  {
   "cell_type": "markdown",
   "id": "e7a78195",
   "metadata": {},
   "source": [
    "**Converting Year to a Factor:**"
   ]
  },
  {
   "cell_type": "code",
   "execution_count": 9,
   "id": "f57083d3",
   "metadata": {
    "vscode": {
     "languageId": "r"
    }
   },
   "outputs": [],
   "source": [
    "my_data_tidy <- my_data_tidy %>%\n",
    "  mutate(year = as.factor(year))"
   ]
  },
  {
   "cell_type": "markdown",
   "id": "67f9a083",
   "metadata": {},
   "source": [
    "**Data Visualization Plot:**"
   ]
  },
  {
   "cell_type": "code",
   "execution_count": 11,
   "id": "27b520ca",
   "metadata": {
    "vscode": {
     "languageId": "r"
    }
   },
   "outputs": [
    {
     "data": {
      "image/png": "[encoded data removed]",
      "text/plain": [
       "plot without title"
      ]
     },
     "metadata": {
      "image/png": {
       "height": 420,
       "width": 420
      }
     },
     "output_type": "display_data"
    }
   ],
   "source": [
    "ggplot(my_data_tidy, aes(x = gender, y = assists, fill = year)) +\n",
    "  geom_bar(stat = \"identity\", position = \"dodge\") +\n",
    "  labs(x = \"Gender\", y = \"Assists\") +\n",
    "  theme_gray() +\n",
    "  theme(\n",
    "    text = element_text(size = 18)) +\n",
    "  scale_fill_manual(name = \"Year\",values = c(\"1\" = \"#fd8472\", \"2\" = \"#219dad\"))"
   ]
  }
 ],
 "metadata": {
  "kernelspec": {
   "display_name": "R",
   "language": "R",
   "name": "ir"
  },
  "language_info": {
   "codemirror_mode": "r",
   "file_extension": ".r",
   "mimetype": "text/x-r-source",
   "name": "R",
   "pygments_lexer": "r",
   "version": "4.4.1"
  }
 },
 "nbformat": 4,
 "nbformat_minor": 5
}
