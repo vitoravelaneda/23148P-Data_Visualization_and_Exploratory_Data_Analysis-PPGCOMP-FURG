{
 "cells": [
  {
   "cell_type": "markdown",
   "id": "c4b0508c",
   "metadata": {},
   "source": [
    "# PPGCOMP - FURG | 23148P - Data Visualization and Exploratory Data Analysis | 02/2024 \n",
    "This notebook contains the solution for Task 03 of the course 23148P - Data Visualization and Exploratory Data Analysis - 02/2024 of the Graduate Program in Computing at FURG (PPGCOMP-FURG).\n",
    "\n",
    "**Professor:** Dr. Adriano Velasque Werhli.\n",
    "\n",
    "**Student:** Vitor Avelaneda.\n",
    "\n",
    "* **Contact:** avelaneda.vitor@gmail.com\n",
    "\n",
    "The repository with the notebooks can be accessed [here!](https://github.com/vitoravelaneda/23148P-Data_Visualization_and_Exploratory_Data_Analysis-PPGCOMP-FURG)"
   ]
  },
  {
   "cell_type": "markdown",
   "id": "92ec4ab3",
   "metadata": {},
   "source": [
    "### Exercises\n",
    "1. Load the tab delimited file small_file.txt using the function read_delim. The\n",
    "loaded data should be attributed to the variablem my.data. After having the data in\n",
    "the variable:\n",
    "    * Inspect the data with the function `head()`, `view()` and `glimpse()`\n",
    "    * Using the function `filter()` from tidyverse library show only the rows that are from category D\n",
    "    * Using the solution above, show only rows with category D and ordered by lenght\n",
    "    * Calculate de mean of the Lenght of Category D and of Category A using the filters above and the function `mean()`. Remember that you can attribute the resulto of a pipe to a variable.\n",
    "\n",
    "2. You have been provided the file student_grade.csv. Load this data and put it in a\n",
    "tidy format. Think about:\n",
    "    * Which of the columns are annotations and which are measurements?\n",
    "    * How many different types of measurement are there?\n",
    "    * Are all of the measurements of the same type in a single column?\n",
    "    * What is the name of the variable being measured? I has its name in on column?\n",
    "    * After tidying are there any NA values which should be removed?\n",
    "    * Are there any columns with repeated information in its rows that should be removed?\n",
    "    * Remove NA\n",
    "    * What is the mean and standard deviation of the grades in questions 1 and 2?"
   ]
  },
  {
   "cell_type": "markdown",
   "id": "00220e1e",
   "metadata": {},
   "source": [
    "### Solution 1:"
   ]
  },
  {
   "cell_type": "markdown",
   "id": "82c34b7d",
   "metadata": {},
   "source": [
    "Importing the data and assigning it to the variable `my.data`."
   ]
  },
  {
   "cell_type": "code",
   "execution_count": 1,
   "id": "fbadba38",
   "metadata": {
    "vscode": {
     "languageId": "r"
    }
   },
   "outputs": [],
   "source": [
    "my.data <- read.delim('small_file.txt', header = TRUE)"
   ]
  },
  {
   "cell_type": "markdown",
   "id": "332d94fc",
   "metadata": {},
   "source": [
    "Checking if the dplyr package is installed and importing the package:"
   ]
  },
  {
   "cell_type": "code",
   "execution_count": 2,
   "id": "e762bdb0",
   "metadata": {
    "vscode": {
     "languageId": "r"
    }
   },
   "outputs": [
    {
     "name": "stderr",
     "output_type": "stream",
     "text": [
      "\n",
      "Anexando pacote: ‘dplyr’\n",
      "\n",
      "\n",
      "Os seguintes objetos são mascarados por ‘package:stats’:\n",
      "\n",
      "    filter, lag\n",
      "\n",
      "\n",
      "Os seguintes objetos são mascarados por ‘package:base’:\n",
      "\n",
      "    intersect, setdiff, setequal, union\n",
      "\n",
      "\n"
     ]
    }
   ],
   "source": [
    "if (!requireNamespace(\"dplyr\", quietly = TRUE)) install.packages(\"dplyr\")\n",
    "library(dplyr)"
   ]
  },
  {
   "cell_type": "markdown",
   "id": "970ae2a9",
   "metadata": {},
   "source": [
    "Visualizing the data:"
   ]
  },
  {
   "cell_type": "code",
   "execution_count": 3,
   "id": "47f6be7f",
   "metadata": {
    "vscode": {
     "languageId": "r"
    }
   },
   "outputs": [
    {
     "data": {
      "text/html": [
       "<table class=\"dataframe\">\n",
       "<caption>A data.frame: 6 × 3</caption>\n",
       "<thead>\n",
       "\t<tr><th></th><th scope=col>Sample</th><th scope=col>Length</th><th scope=col>Category</th></tr>\n",
       "\t<tr><th></th><th scope=col>&lt;chr&gt;</th><th scope=col>&lt;int&gt;</th><th scope=col>&lt;chr&gt;</th></tr>\n",
       "</thead>\n",
       "<tbody>\n",
       "\t<tr><th scope=row>1</th><td>x_1</td><td>45</td><td>A</td></tr>\n",
       "\t<tr><th scope=row>2</th><td>x_2</td><td>82</td><td>B</td></tr>\n",
       "\t<tr><th scope=row>3</th><td>x_3</td><td>81</td><td>C</td></tr>\n",
       "\t<tr><th scope=row>4</th><td>x_4</td><td>56</td><td>D</td></tr>\n",
       "\t<tr><th scope=row>5</th><td>x_5</td><td>96</td><td>A</td></tr>\n",
       "\t<tr><th scope=row>6</th><td>x_6</td><td>85</td><td>B</td></tr>\n",
       "</tbody>\n",
       "</table>\n"
      ],
      "text/latex": [
       "A data.frame: 6 × 3\n",
       "\\begin{tabular}{r|lll}\n",
       "  & Sample & Length & Category\\\\\n",
       "  & <chr> & <int> & <chr>\\\\\n",
       "\\hline\n",
       "\t1 & x\\_1 & 45 & A\\\\\n",
       "\t2 & x\\_2 & 82 & B\\\\\n",
       "\t3 & x\\_3 & 81 & C\\\\\n",
       "\t4 & x\\_4 & 56 & D\\\\\n",
       "\t5 & x\\_5 & 96 & A\\\\\n",
       "\t6 & x\\_6 & 85 & B\\\\\n",
       "\\end{tabular}\n"
      ],
      "text/markdown": [
       "\n",
       "A data.frame: 6 × 3\n",
       "\n",
       "| <!--/--> | Sample &lt;chr&gt; | Length &lt;int&gt; | Category &lt;chr&gt; |\n",
       "|---|---|---|---|\n",
       "| 1 | x_1 | 45 | A |\n",
       "| 2 | x_2 | 82 | B |\n",
       "| 3 | x_3 | 81 | C |\n",
       "| 4 | x_4 | 56 | D |\n",
       "| 5 | x_5 | 96 | A |\n",
       "| 6 | x_6 | 85 | B |\n",
       "\n"
      ],
      "text/plain": [
       "  Sample Length Category\n",
       "1 x_1    45     A       \n",
       "2 x_2    82     B       \n",
       "3 x_3    81     C       \n",
       "4 x_4    56     D       \n",
       "5 x_5    96     A       \n",
       "6 x_6    85     B       "
      ]
     },
     "metadata": {},
     "output_type": "display_data"
    },
    {
     "data": {
      "text/html": [
       "<table class=\"dataframe\">\n",
       "<caption>A data.frame: 40 × 3</caption>\n",
       "<thead>\n",
       "\t<tr><th scope=col>Sample</th><th scope=col>Length</th><th scope=col>Category</th></tr>\n",
       "\t<tr><th scope=col>&lt;chr&gt;</th><th scope=col>&lt;int&gt;</th><th scope=col>&lt;chr&gt;</th></tr>\n",
       "</thead>\n",
       "<tbody>\n",
       "\t<tr><td>x_1 </td><td> 45</td><td>A</td></tr>\n",
       "\t<tr><td>x_2 </td><td> 82</td><td>B</td></tr>\n",
       "\t<tr><td>x_3 </td><td> 81</td><td>C</td></tr>\n",
       "\t<tr><td>x_4 </td><td> 56</td><td>D</td></tr>\n",
       "\t<tr><td>x_5 </td><td> 96</td><td>A</td></tr>\n",
       "\t<tr><td>x_6 </td><td> 85</td><td>B</td></tr>\n",
       "\t<tr><td>x_7 </td><td> 65</td><td>C</td></tr>\n",
       "\t<tr><td>x_8 </td><td> 96</td><td>D</td></tr>\n",
       "\t<tr><td>x_9 </td><td> 60</td><td>A</td></tr>\n",
       "\t<tr><td>x_10</td><td> 62</td><td>B</td></tr>\n",
       "\t<tr><td>x_11</td><td> 80</td><td>C</td></tr>\n",
       "\t<tr><td>x_12</td><td> 63</td><td>D</td></tr>\n",
       "\t<tr><td>x_13</td><td> 50</td><td>A</td></tr>\n",
       "\t<tr><td>y_1 </td><td> 64</td><td>B</td></tr>\n",
       "\t<tr><td>y_2 </td><td> 43</td><td>C</td></tr>\n",
       "\t<tr><td>y_3 </td><td> 98</td><td>D</td></tr>\n",
       "\t<tr><td>y_4 </td><td> 78</td><td>A</td></tr>\n",
       "\t<tr><td>y_5 </td><td> 53</td><td>B</td></tr>\n",
       "\t<tr><td>y_6 </td><td>100</td><td>C</td></tr>\n",
       "\t<tr><td>y_7 </td><td> 79</td><td>D</td></tr>\n",
       "\t<tr><td>y_8 </td><td> 84</td><td>A</td></tr>\n",
       "\t<tr><td>y_9 </td><td> 68</td><td>B</td></tr>\n",
       "\t<tr><td>y_10</td><td> 99</td><td>C</td></tr>\n",
       "\t<tr><td>y_11</td><td> 65</td><td>D</td></tr>\n",
       "\t<tr><td>y_12</td><td> 55</td><td>A</td></tr>\n",
       "\t<tr><td>y_13</td><td> 98</td><td>B</td></tr>\n",
       "\t<tr><td>z_1 </td><td> 56</td><td>C</td></tr>\n",
       "\t<tr><td>z_2 </td><td> 83</td><td>D</td></tr>\n",
       "\t<tr><td>z_3 </td><td> 81</td><td>A</td></tr>\n",
       "\t<tr><td>z_4 </td><td> 69</td><td>B</td></tr>\n",
       "\t<tr><td>z_5 </td><td> 50</td><td>C</td></tr>\n",
       "\t<tr><td>z_6 </td><td> 72</td><td>D</td></tr>\n",
       "\t<tr><td>z_7 </td><td> 54</td><td>A</td></tr>\n",
       "\t<tr><td>z_8 </td><td> 56</td><td>B</td></tr>\n",
       "\t<tr><td>z_9 </td><td> 87</td><td>C</td></tr>\n",
       "\t<tr><td>z_10</td><td> 84</td><td>D</td></tr>\n",
       "\t<tr><td>z_11</td><td> 80</td><td>A</td></tr>\n",
       "\t<tr><td>z_12</td><td> 68</td><td>B</td></tr>\n",
       "\t<tr><td>z_13</td><td> 95</td><td>C</td></tr>\n",
       "\t<tr><td>z_14</td><td> 93</td><td>D</td></tr>\n",
       "</tbody>\n",
       "</table>\n"
      ],
      "text/latex": [
       "A data.frame: 40 × 3\n",
       "\\begin{tabular}{lll}\n",
       " Sample & Length & Category\\\\\n",
       " <chr> & <int> & <chr>\\\\\n",
       "\\hline\n",
       "\t x\\_1  &  45 & A\\\\\n",
       "\t x\\_2  &  82 & B\\\\\n",
       "\t x\\_3  &  81 & C\\\\\n",
       "\t x\\_4  &  56 & D\\\\\n",
       "\t x\\_5  &  96 & A\\\\\n",
       "\t x\\_6  &  85 & B\\\\\n",
       "\t x\\_7  &  65 & C\\\\\n",
       "\t x\\_8  &  96 & D\\\\\n",
       "\t x\\_9  &  60 & A\\\\\n",
       "\t x\\_10 &  62 & B\\\\\n",
       "\t x\\_11 &  80 & C\\\\\n",
       "\t x\\_12 &  63 & D\\\\\n",
       "\t x\\_13 &  50 & A\\\\\n",
       "\t y\\_1  &  64 & B\\\\\n",
       "\t y\\_2  &  43 & C\\\\\n",
       "\t y\\_3  &  98 & D\\\\\n",
       "\t y\\_4  &  78 & A\\\\\n",
       "\t y\\_5  &  53 & B\\\\\n",
       "\t y\\_6  & 100 & C\\\\\n",
       "\t y\\_7  &  79 & D\\\\\n",
       "\t y\\_8  &  84 & A\\\\\n",
       "\t y\\_9  &  68 & B\\\\\n",
       "\t y\\_10 &  99 & C\\\\\n",
       "\t y\\_11 &  65 & D\\\\\n",
       "\t y\\_12 &  55 & A\\\\\n",
       "\t y\\_13 &  98 & B\\\\\n",
       "\t z\\_1  &  56 & C\\\\\n",
       "\t z\\_2  &  83 & D\\\\\n",
       "\t z\\_3  &  81 & A\\\\\n",
       "\t z\\_4  &  69 & B\\\\\n",
       "\t z\\_5  &  50 & C\\\\\n",
       "\t z\\_6  &  72 & D\\\\\n",
       "\t z\\_7  &  54 & A\\\\\n",
       "\t z\\_8  &  56 & B\\\\\n",
       "\t z\\_9  &  87 & C\\\\\n",
       "\t z\\_10 &  84 & D\\\\\n",
       "\t z\\_11 &  80 & A\\\\\n",
       "\t z\\_12 &  68 & B\\\\\n",
       "\t z\\_13 &  95 & C\\\\\n",
       "\t z\\_14 &  93 & D\\\\\n",
       "\\end{tabular}\n"
      ],
      "text/markdown": [
       "\n",
       "A data.frame: 40 × 3\n",
       "\n",
       "| Sample &lt;chr&gt; | Length &lt;int&gt; | Category &lt;chr&gt; |\n",
       "|---|---|---|\n",
       "| x_1  |  45 | A |\n",
       "| x_2  |  82 | B |\n",
       "| x_3  |  81 | C |\n",
       "| x_4  |  56 | D |\n",
       "| x_5  |  96 | A |\n",
       "| x_6  |  85 | B |\n",
       "| x_7  |  65 | C |\n",
       "| x_8  |  96 | D |\n",
       "| x_9  |  60 | A |\n",
       "| x_10 |  62 | B |\n",
       "| x_11 |  80 | C |\n",
       "| x_12 |  63 | D |\n",
       "| x_13 |  50 | A |\n",
       "| y_1  |  64 | B |\n",
       "| y_2  |  43 | C |\n",
       "| y_3  |  98 | D |\n",
       "| y_4  |  78 | A |\n",
       "| y_5  |  53 | B |\n",
       "| y_6  | 100 | C |\n",
       "| y_7  |  79 | D |\n",
       "| y_8  |  84 | A |\n",
       "| y_9  |  68 | B |\n",
       "| y_10 |  99 | C |\n",
       "| y_11 |  65 | D |\n",
       "| y_12 |  55 | A |\n",
       "| y_13 |  98 | B |\n",
       "| z_1  |  56 | C |\n",
       "| z_2  |  83 | D |\n",
       "| z_3  |  81 | A |\n",
       "| z_4  |  69 | B |\n",
       "| z_5  |  50 | C |\n",
       "| z_6  |  72 | D |\n",
       "| z_7  |  54 | A |\n",
       "| z_8  |  56 | B |\n",
       "| z_9  |  87 | C |\n",
       "| z_10 |  84 | D |\n",
       "| z_11 |  80 | A |\n",
       "| z_12 |  68 | B |\n",
       "| z_13 |  95 | C |\n",
       "| z_14 |  93 | D |\n",
       "\n"
      ],
      "text/plain": [
       "   Sample Length Category\n",
       "1  x_1     45    A       \n",
       "2  x_2     82    B       \n",
       "3  x_3     81    C       \n",
       "4  x_4     56    D       \n",
       "5  x_5     96    A       \n",
       "6  x_6     85    B       \n",
       "7  x_7     65    C       \n",
       "8  x_8     96    D       \n",
       "9  x_9     60    A       \n",
       "10 x_10    62    B       \n",
       "11 x_11    80    C       \n",
       "12 x_12    63    D       \n",
       "13 x_13    50    A       \n",
       "14 y_1     64    B       \n",
       "15 y_2     43    C       \n",
       "16 y_3     98    D       \n",
       "17 y_4     78    A       \n",
       "18 y_5     53    B       \n",
       "19 y_6    100    C       \n",
       "20 y_7     79    D       \n",
       "21 y_8     84    A       \n",
       "22 y_9     68    B       \n",
       "23 y_10    99    C       \n",
       "24 y_11    65    D       \n",
       "25 y_12    55    A       \n",
       "26 y_13    98    B       \n",
       "27 z_1     56    C       \n",
       "28 z_2     83    D       \n",
       "29 z_3     81    A       \n",
       "30 z_4     69    B       \n",
       "31 z_5     50    C       \n",
       "32 z_6     72    D       \n",
       "33 z_7     54    A       \n",
       "34 z_8     56    B       \n",
       "35 z_9     87    C       \n",
       "36 z_10    84    D       \n",
       "37 z_11    80    A       \n",
       "38 z_12    68    B       \n",
       "39 z_13    95    C       \n",
       "40 z_14    93    D       "
      ]
     },
     "metadata": {},
     "output_type": "display_data"
    },
    {
     "name": "stdout",
     "output_type": "stream",
     "text": [
      "Rows: 40\n",
      "Columns: 3\n",
      "$ Sample   \u001b[3m\u001b[90m<chr>\u001b[39m\u001b[23m \"x_1\", \"x_2\", \"x_3\", \"x_4\", \"x_5\", \"x_6\", \"x_7\", \"x_8\", \"x_9\"…\n",
      "$ Length   \u001b[3m\u001b[90m<int>\u001b[39m\u001b[23m 45, 82, 81, 56, 96, 85, 65, 96, 60, 62, 80, 63, 50, 64, 43, 9…\n",
      "$ Category \u001b[3m\u001b[90m<chr>\u001b[39m\u001b[23m \"A\", \"B\", \"C\", \"D\", \"A\", \"B\", \"C\", \"D\", \"A\", \"B\", \"C\", \"D\", \"…\n"
     ]
    }
   ],
   "source": [
    "head(my.data)\n",
    "View(my.data)\n",
    "glimpse(my.data)"
   ]
  },
  {
   "cell_type": "markdown",
   "id": "8505adf0",
   "metadata": {},
   "source": [
    "Filtering the data by `category == D`."
   ]
  },
  {
   "cell_type": "code",
   "execution_count": 4,
   "id": "689a6656",
   "metadata": {
    "vscode": {
     "languageId": "r"
    }
   },
   "outputs": [
    {
     "data": {
      "text/html": [
       "<table class=\"dataframe\">\n",
       "<caption>A data.frame: 10 × 3</caption>\n",
       "<thead>\n",
       "\t<tr><th scope=col>Sample</th><th scope=col>Length</th><th scope=col>Category</th></tr>\n",
       "\t<tr><th scope=col>&lt;chr&gt;</th><th scope=col>&lt;int&gt;</th><th scope=col>&lt;chr&gt;</th></tr>\n",
       "</thead>\n",
       "<tbody>\n",
       "\t<tr><td>x_4 </td><td>56</td><td>D</td></tr>\n",
       "\t<tr><td>x_8 </td><td>96</td><td>D</td></tr>\n",
       "\t<tr><td>x_12</td><td>63</td><td>D</td></tr>\n",
       "\t<tr><td>y_3 </td><td>98</td><td>D</td></tr>\n",
       "\t<tr><td>y_7 </td><td>79</td><td>D</td></tr>\n",
       "\t<tr><td>y_11</td><td>65</td><td>D</td></tr>\n",
       "\t<tr><td>z_2 </td><td>83</td><td>D</td></tr>\n",
       "\t<tr><td>z_6 </td><td>72</td><td>D</td></tr>\n",
       "\t<tr><td>z_10</td><td>84</td><td>D</td></tr>\n",
       "\t<tr><td>z_14</td><td>93</td><td>D</td></tr>\n",
       "</tbody>\n",
       "</table>\n"
      ],
      "text/latex": [
       "A data.frame: 10 × 3\n",
       "\\begin{tabular}{lll}\n",
       " Sample & Length & Category\\\\\n",
       " <chr> & <int> & <chr>\\\\\n",
       "\\hline\n",
       "\t x\\_4  & 56 & D\\\\\n",
       "\t x\\_8  & 96 & D\\\\\n",
       "\t x\\_12 & 63 & D\\\\\n",
       "\t y\\_3  & 98 & D\\\\\n",
       "\t y\\_7  & 79 & D\\\\\n",
       "\t y\\_11 & 65 & D\\\\\n",
       "\t z\\_2  & 83 & D\\\\\n",
       "\t z\\_6  & 72 & D\\\\\n",
       "\t z\\_10 & 84 & D\\\\\n",
       "\t z\\_14 & 93 & D\\\\\n",
       "\\end{tabular}\n"
      ],
      "text/markdown": [
       "\n",
       "A data.frame: 10 × 3\n",
       "\n",
       "| Sample &lt;chr&gt; | Length &lt;int&gt; | Category &lt;chr&gt; |\n",
       "|---|---|---|\n",
       "| x_4  | 56 | D |\n",
       "| x_8  | 96 | D |\n",
       "| x_12 | 63 | D |\n",
       "| y_3  | 98 | D |\n",
       "| y_7  | 79 | D |\n",
       "| y_11 | 65 | D |\n",
       "| z_2  | 83 | D |\n",
       "| z_6  | 72 | D |\n",
       "| z_10 | 84 | D |\n",
       "| z_14 | 93 | D |\n",
       "\n"
      ],
      "text/plain": [
       "   Sample Length Category\n",
       "1  x_4    56     D       \n",
       "2  x_8    96     D       \n",
       "3  x_12   63     D       \n",
       "4  y_3    98     D       \n",
       "5  y_7    79     D       \n",
       "6  y_11   65     D       \n",
       "7  z_2    83     D       \n",
       "8  z_6    72     D       \n",
       "9  z_10   84     D       \n",
       "10 z_14   93     D       "
      ]
     },
     "metadata": {},
     "output_type": "display_data"
    }
   ],
   "source": [
    "my.data %>%\n",
    "  filter(Category == \"D\")"
   ]
  },
  {
   "cell_type": "markdown",
   "id": "0cc40567",
   "metadata": {},
   "source": [
    "Organizing `category == D` by `Length`."
   ]
  },
  {
   "cell_type": "code",
   "execution_count": 5,
   "id": "a2aaf595",
   "metadata": {
    "vscode": {
     "languageId": "r"
    }
   },
   "outputs": [
    {
     "data": {
      "text/html": [
       "<table class=\"dataframe\">\n",
       "<caption>A data.frame: 10 × 3</caption>\n",
       "<thead>\n",
       "\t<tr><th scope=col>Sample</th><th scope=col>Length</th><th scope=col>Category</th></tr>\n",
       "\t<tr><th scope=col>&lt;chr&gt;</th><th scope=col>&lt;int&gt;</th><th scope=col>&lt;chr&gt;</th></tr>\n",
       "</thead>\n",
       "<tbody>\n",
       "\t<tr><td>x_4 </td><td>56</td><td>D</td></tr>\n",
       "\t<tr><td>x_12</td><td>63</td><td>D</td></tr>\n",
       "\t<tr><td>y_11</td><td>65</td><td>D</td></tr>\n",
       "\t<tr><td>z_6 </td><td>72</td><td>D</td></tr>\n",
       "\t<tr><td>y_7 </td><td>79</td><td>D</td></tr>\n",
       "\t<tr><td>z_2 </td><td>83</td><td>D</td></tr>\n",
       "\t<tr><td>z_10</td><td>84</td><td>D</td></tr>\n",
       "\t<tr><td>z_14</td><td>93</td><td>D</td></tr>\n",
       "\t<tr><td>x_8 </td><td>96</td><td>D</td></tr>\n",
       "\t<tr><td>y_3 </td><td>98</td><td>D</td></tr>\n",
       "</tbody>\n",
       "</table>\n"
      ],
      "text/latex": [
       "A data.frame: 10 × 3\n",
       "\\begin{tabular}{lll}\n",
       " Sample & Length & Category\\\\\n",
       " <chr> & <int> & <chr>\\\\\n",
       "\\hline\n",
       "\t x\\_4  & 56 & D\\\\\n",
       "\t x\\_12 & 63 & D\\\\\n",
       "\t y\\_11 & 65 & D\\\\\n",
       "\t z\\_6  & 72 & D\\\\\n",
       "\t y\\_7  & 79 & D\\\\\n",
       "\t z\\_2  & 83 & D\\\\\n",
       "\t z\\_10 & 84 & D\\\\\n",
       "\t z\\_14 & 93 & D\\\\\n",
       "\t x\\_8  & 96 & D\\\\\n",
       "\t y\\_3  & 98 & D\\\\\n",
       "\\end{tabular}\n"
      ],
      "text/markdown": [
       "\n",
       "A data.frame: 10 × 3\n",
       "\n",
       "| Sample &lt;chr&gt; | Length &lt;int&gt; | Category &lt;chr&gt; |\n",
       "|---|---|---|\n",
       "| x_4  | 56 | D |\n",
       "| x_12 | 63 | D |\n",
       "| y_11 | 65 | D |\n",
       "| z_6  | 72 | D |\n",
       "| y_7  | 79 | D |\n",
       "| z_2  | 83 | D |\n",
       "| z_10 | 84 | D |\n",
       "| z_14 | 93 | D |\n",
       "| x_8  | 96 | D |\n",
       "| y_3  | 98 | D |\n",
       "\n"
      ],
      "text/plain": [
       "   Sample Length Category\n",
       "1  x_4    56     D       \n",
       "2  x_12   63     D       \n",
       "3  y_11   65     D       \n",
       "4  z_6    72     D       \n",
       "5  y_7    79     D       \n",
       "6  z_2    83     D       \n",
       "7  z_10   84     D       \n",
       "8  z_14   93     D       \n",
       "9  x_8    96     D       \n",
       "10 y_3    98     D       "
      ]
     },
     "metadata": {},
     "output_type": "display_data"
    }
   ],
   "source": [
    "my.data %>%\n",
    "  filter(Category == \"D\") %>%\n",
    "  arrange(Length)"
   ]
  },
  {
   "cell_type": "markdown",
   "id": "90174d41",
   "metadata": {},
   "source": [
    "Calculating the mean of `Length`:"
   ]
  },
  {
   "cell_type": "code",
   "execution_count": 6,
   "id": "47500bb5",
   "metadata": {
    "vscode": {
     "languageId": "r"
    }
   },
   "outputs": [
    {
     "data": {
      "text/html": [
       "78.9"
      ],
      "text/latex": [
       "78.9"
      ],
      "text/markdown": [
       "78.9"
      ],
      "text/plain": [
       "[1] 78.9"
      ]
     },
     "metadata": {},
     "output_type": "display_data"
    }
   ],
   "source": [
    "D_data <- data.frame(\n",
    "  my.data %>%\n",
    "    filter(Category == \"D\")\n",
    ")\n",
    "\n",
    "mean(D_data$Length)"
   ]
  },
  {
   "cell_type": "markdown",
   "id": "639a0f5c",
   "metadata": {},
   "source": [
    "Assigning the mean to the variable `D_mean`:"
   ]
  },
  {
   "cell_type": "code",
   "execution_count": 7,
   "id": "3d762b4a",
   "metadata": {
    "vscode": {
     "languageId": "r"
    }
   },
   "outputs": [],
   "source": [
    "D_mean <- my.data %>%\n",
    "  filter(Category == \"D\") %>%\n",
    "  summarise(mean_length_D = mean(Length)) %>%\n",
    "  pull(mean_length_D)"
   ]
  },
  {
   "cell_type": "markdown",
   "id": "0ef644bf",
   "metadata": {},
   "source": [
    "Calculating the mean of `Length`:"
   ]
  },
  {
   "cell_type": "code",
   "execution_count": 8,
   "id": "cf8a943a",
   "metadata": {
    "vscode": {
     "languageId": "r"
    }
   },
   "outputs": [
    {
     "data": {
      "text/html": [
       "68.3"
      ],
      "text/latex": [
       "68.3"
      ],
      "text/markdown": [
       "68.3"
      ],
      "text/plain": [
       "[1] 68.3"
      ]
     },
     "metadata": {},
     "output_type": "display_data"
    }
   ],
   "source": [
    "A_data <- data.frame(\n",
    "  my.data %>%\n",
    "    filter(Category == \"A\")\n",
    ")\n",
    "\n",
    "mean(A_data$Length)"
   ]
  },
  {
   "cell_type": "markdown",
   "id": "da7bf9f3",
   "metadata": {},
   "source": [
    "Filtering the data by `category == A`, calculating the `mean` of `Length`, and assigning it to the variable `A_mean`."
   ]
  },
  {
   "cell_type": "code",
   "execution_count": 9,
   "id": "dd53f277",
   "metadata": {
    "vscode": {
     "languageId": "r"
    }
   },
   "outputs": [],
   "source": [
    "A_mean <- my.data %>%\n",
    "  filter(Category == \"A\") %>%\n",
    "  summarise(mean_length_A = mean(Length)) %>%\n",
    "  pull(mean_length_A)"
   ]
  },
  {
   "cell_type": "markdown",
   "id": "ee49d986",
   "metadata": {},
   "source": [
    "### Solution 2:"
   ]
  },
  {
   "cell_type": "markdown",
   "id": "89357944",
   "metadata": {},
   "source": [
    "Checking if the `readr` package is installed and importing the package:"
   ]
  },
  {
   "cell_type": "code",
   "execution_count": 10,
   "id": "00921bb2",
   "metadata": {
    "vscode": {
     "languageId": "r"
    }
   },
   "outputs": [],
   "source": [
    "if (!requireNamespace(\"readr\", quietly = TRUE)) install.packages(\"readr\")\n",
    "library(readr)"
   ]
  },
  {
   "cell_type": "markdown",
   "id": "b4a3483e",
   "metadata": {},
   "source": [
    "Importing the data and assigning it to the variable `my.data2`."
   ]
  },
  {
   "cell_type": "code",
   "execution_count": 11,
   "id": "b5ca0bb4",
   "metadata": {
    "vscode": {
     "languageId": "r"
    }
   },
   "outputs": [
    {
     "name": "stderr",
     "output_type": "stream",
     "text": [
      "\u001b[1mRows: \u001b[22m\u001b[34m43\u001b[39m \u001b[1mColumns: \u001b[22m\u001b[34m14\u001b[39m\n",
      "\u001b[36m──\u001b[39m \u001b[1mColumn specification\u001b[22m \u001b[36m────────────────────────────────────────────────────────\u001b[39m\n",
      "\u001b[1mDelimiter:\u001b[22m \",\"\n",
      "\u001b[31mchr\u001b[39m  (2): Class, Student\n",
      "\u001b[32mdbl\u001b[39m (12): Year, Q1, Q2, Q3, Q4, Q5, Q6, Q7, Q8, Q9, Q10, Q11\n",
      "\n",
      "\u001b[36mℹ\u001b[39m Use `spec()` to retrieve the full column specification for this data.\n",
      "\u001b[36mℹ\u001b[39m Specify the column types or set `show_col_types = FALSE` to quiet this message.\n"
     ]
    }
   ],
   "source": [
    "my.data2 <- read_csv(\"student_grade.csv\")"
   ]
  },
  {
   "cell_type": "markdown",
   "id": "6d3e752a",
   "metadata": {},
   "source": [
    "Visualizing the data:"
   ]
  },
  {
   "cell_type": "code",
   "execution_count": 12,
   "id": "e049909b",
   "metadata": {
    "vscode": {
     "languageId": "r"
    }
   },
   "outputs": [
    {
     "data": {
      "text/html": [
       "<table class=\"dataframe\">\n",
       "<caption>A spec_tbl_df: 43 × 14</caption>\n",
       "<thead>\n",
       "\t<tr><th scope=col>Year</th><th scope=col>Class</th><th scope=col>Student</th><th scope=col>Q1</th><th scope=col>Q2</th><th scope=col>Q3</th><th scope=col>Q4</th><th scope=col>Q5</th><th scope=col>Q6</th><th scope=col>Q7</th><th scope=col>Q8</th><th scope=col>Q9</th><th scope=col>Q10</th><th scope=col>Q11</th></tr>\n",
       "\t<tr><th scope=col>&lt;dbl&gt;</th><th scope=col>&lt;chr&gt;</th><th scope=col>&lt;chr&gt;</th><th scope=col>&lt;dbl&gt;</th><th scope=col>&lt;dbl&gt;</th><th scope=col>&lt;dbl&gt;</th><th scope=col>&lt;dbl&gt;</th><th scope=col>&lt;dbl&gt;</th><th scope=col>&lt;dbl&gt;</th><th scope=col>&lt;dbl&gt;</th><th scope=col>&lt;dbl&gt;</th><th scope=col>&lt;dbl&gt;</th><th scope=col>&lt;dbl&gt;</th><th scope=col>&lt;dbl&gt;</th></tr>\n",
       "</thead>\n",
       "<tbody>\n",
       "\t<tr><td>2022</td><td>Student</td><td>Lucca    </td><td> 7.50</td><td> 6.23</td><td> 6.50</td><td> 7.15</td><td>   NA</td><td>5.43</td><td> 8.58</td><td> 8.19</td><td> 7.96</td><td> 7.92</td><td> 6.48</td></tr>\n",
       "\t<tr><td>2022</td><td>Student</td><td>Salles   </td><td>10.00</td><td>10.00</td><td>10.00</td><td>10.00</td><td>10.00</td><td>  NA</td><td>10.00</td><td>10.00</td><td>10.00</td><td>10.00</td><td>10.00</td></tr>\n",
       "\t<tr><td>2022</td><td>Student</td><td>Bueno    </td><td> 9.50</td><td> 9.00</td><td> 9.00</td><td> 9.25</td><td> 9.25</td><td>8.00</td><td> 9.75</td><td> 9.75</td><td> 7.50</td><td> 7.25</td><td> 8.00</td></tr>\n",
       "\t<tr><td>2022</td><td>Student</td><td>Simas    </td><td> 9.50</td><td> 9.00</td><td> 9.00</td><td> 9.25</td><td> 9.25</td><td>8.00</td><td> 9.75</td><td> 9.75</td><td> 7.50</td><td> 7.25</td><td> 8.00</td></tr>\n",
       "\t<tr><td>2022</td><td>Student</td><td>Goncalves</td><td> 1.67</td><td> 3.17</td><td> 4.67</td><td> 1.67</td><td> 4.00</td><td>1.67</td><td> 4.83</td><td> 0.83</td><td> 0.83</td><td> 1.67</td><td> 1.67</td></tr>\n",
       "\t<tr><td>2022</td><td>Student</td><td>Dornelles</td><td> 9.10</td><td> 8.75</td><td> 9.83</td><td> 9.00</td><td> 9.75</td><td>9.00</td><td> 9.50</td><td> 9.25</td><td> 9.00</td><td> 9.18</td><td> 9.36</td></tr>\n",
       "\t<tr><td>2022</td><td>Student</td><td>John     </td><td> 9.53</td><td> 7.07</td><td> 8.40</td><td> 7.60</td><td> 7.67</td><td>8.38</td><td> 7.27</td><td> 6.87</td><td> 7.80</td><td> 8.00</td><td> 7.93</td></tr>\n",
       "\t<tr><td>2022</td><td>Student</td><td>Ramos    </td><td> 6.25</td><td> 6.23</td><td> 7.15</td><td> 6.38</td><td> 6.00</td><td>2.00</td><td> 7.23</td><td> 6.62</td><td> 6.69</td><td> 6.62</td><td> 6.31</td></tr>\n",
       "\t<tr><td>2022</td><td>Student</td><td>Junior   </td><td>10.00</td><td>10.00</td><td>10.00</td><td>10.00</td><td>10.00</td><td>  NA</td><td>10.00</td><td>10.00</td><td>10.00</td><td>10.00</td><td>10.00</td></tr>\n",
       "\t<tr><td>2022</td><td>Student</td><td>Freitas  </td><td> 9.68</td><td> 8.92</td><td> 9.44</td><td> 9.68</td><td> 9.28</td><td>8.84</td><td> 9.60</td><td> 9.48</td><td> 9.60</td><td> 9.68</td><td> 9.64</td></tr>\n",
       "\t<tr><td>2022</td><td>Student</td><td>Zelira   </td><td> 9.36</td><td> 8.48</td><td> 8.84</td><td> 8.92</td><td> 8.56</td><td>7.92</td><td> 9.24</td><td> 9.16</td><td> 9.08</td><td> 8.72</td><td> 8.84</td></tr>\n",
       "\t<tr><td>2022</td><td>Student</td><td>Francisca</td><td> 9.60</td><td> 9.50</td><td> 9.70</td><td> 9.75</td><td> 9.75</td><td>8.86</td><td> 9.75</td><td> 9.85</td><td> 9.85</td><td> 9.75</td><td> 9.65</td></tr>\n",
       "\t<tr><td>2022</td><td>Student</td><td>Vitor    </td><td> 9.61</td><td> 9.78</td><td> 9.91</td><td> 9.17</td><td> 9.87</td><td>9.27</td><td> 9.91</td><td> 9.50</td><td> 9.65</td><td> 9.43</td><td> 9.26</td></tr>\n",
       "\t<tr><td>2022</td><td>Student</td><td>Bruno    </td><td> 7.50</td><td> 6.23</td><td> 6.50</td><td> 7.15</td><td> 6.65</td><td>5.43</td><td> 8.58</td><td> 8.19</td><td> 7.96</td><td> 7.92</td><td> 6.48</td></tr>\n",
       "\t<tr><td>2022</td><td>Student</td><td>Rafael   </td><td> 9.52</td><td> 9.17</td><td>   NA</td><td> 9.40</td><td> 9.31</td><td>9.13</td><td> 9.54</td><td> 9.15</td><td> 8.98</td><td> 9.25</td><td> 9.62</td></tr>\n",
       "\t<tr><td>2022</td><td>Student</td><td>Pinto    </td><td> 9.56</td><td> 9.35</td><td> 9.80</td><td> 8.55</td><td> 9.15</td><td>8.28</td><td> 9.95</td><td> 9.83</td><td> 9.80</td><td> 9.80</td><td> 9.85</td></tr>\n",
       "\t<tr><td>2022</td><td>Student</td><td>Nunes    </td><td> 8.08</td><td> 6.81</td><td> 8.93</td><td> 7.19</td><td> 7.93</td><td>6.00</td><td> 9.22</td><td> 7.85</td><td> 8.52</td><td> 7.56</td><td> 6.04</td></tr>\n",
       "\t<tr><td>2022</td><td>Student</td><td>Andrade  </td><td> 8.45</td><td> 6.87</td><td> 8.55</td><td> 7.47</td><td> 7.35</td><td>5.75</td><td> 8.68</td><td> 7.87</td><td> 7.68</td><td> 7.48</td><td> 8.07</td></tr>\n",
       "\t<tr><td>2022</td><td>Student</td><td>Santos   </td><td> 9.37</td><td> 8.38</td><td> 9.38</td><td> 8.62</td><td> 8.90</td><td>7.67</td><td> 9.59</td><td> 9.55</td><td> 9.45</td><td> 9.21</td><td> 9.28</td></tr>\n",
       "\t<tr><td>2022</td><td>Student</td><td>Lima     </td><td> 8.49</td><td> 8.35</td><td> 8.68</td><td> 8.86</td><td> 8.54</td><td>8.03</td><td> 9.46</td><td> 8.70</td><td> 8.70</td><td> 8.41</td><td> 8.24</td></tr>\n",
       "\t<tr><td>2022</td><td>Student</td><td>Gabriel  </td><td> 9.83</td><td> 9.55</td><td> 9.45</td><td> 9.68</td><td> 9.70</td><td>9.85</td><td> 9.93</td><td> 9.68</td><td> 9.65</td><td> 9.60</td><td> 9.73</td></tr>\n",
       "\t<tr><td>2022</td><td>Student</td><td>Pereira  </td><td> 9.06</td><td> 7.74</td><td> 9.42</td><td> 9.05</td><td> 7.89</td><td>8.17</td><td> 9.79</td><td> 9.11</td><td> 9.61</td><td> 7.84</td><td> 8.06</td></tr>\n",
       "\t<tr><td>2022</td><td>Student</td><td>Luciano  </td><td>10.00</td><td> 9.36</td><td>10.00</td><td> 9.43</td><td> 9.21</td><td>8.27</td><td>10.00</td><td> 9.93</td><td> 9.71</td><td> 9.79</td><td> 9.57</td></tr>\n",
       "\t<tr><td>2022</td><td>Student</td><td>Gleiser  </td><td> 4.50</td><td> 3.95</td><td> 4.81</td><td> 4.00</td><td> 4.38</td><td>3.25</td><td> 5.33</td><td> 4.48</td><td> 4.81</td><td> 4.33</td><td> 4.76</td></tr>\n",
       "\t<tr><td>2022</td><td>Student</td><td>Rafaela  </td><td> 8.30</td><td> 5.03</td><td> 7.12</td><td> 6.00</td><td> 6.63</td><td>6.18</td><td> 8.48</td><td> 6.61</td><td> 8.09</td><td> 7.94</td><td> 5.73</td></tr>\n",
       "\t<tr><td>2022</td><td>Student</td><td>Silvio   </td><td> 9.05</td><td> 8.37</td><td> 9.16</td><td> 8.68</td><td> 9.16</td><td>8.39</td><td> 9.26</td><td> 7.95</td><td> 9.11</td><td> 8.53</td><td> 8.42</td></tr>\n",
       "\t<tr><td>2022</td><td>Student</td><td>Pedro    </td><td> 9.84</td><td> 9.81</td><td> 9.91</td><td> 9.77</td><td> 9.84</td><td>9.39</td><td> 9.98</td><td> 9.79</td><td> 9.95</td><td> 9.81</td><td> 9.86</td></tr>\n",
       "\t<tr><td>2022</td><td>Student</td><td>Adriano  </td><td> 7.33</td><td> 6.94</td><td> 7.45</td><td> 7.00</td><td> 6.97</td><td>6.71</td><td> 9.09</td><td> 7.50</td><td> 8.12</td><td> 6.85</td><td> 7.13</td></tr>\n",
       "\t<tr><td>2022</td><td>Student</td><td>Carneiro </td><td> 8.78</td><td> 7.89</td><td> 8.19</td><td> 8.07</td><td> 8.04</td><td>7.62</td><td> 8.67</td><td> 8.19</td><td> 8.48</td><td> 8.48</td><td> 8.27</td></tr>\n",
       "\t<tr><td>2022</td><td>Student</td><td>Andre    </td><td> 7.95</td><td> 8.00</td><td> 8.54</td><td> 8.32</td><td> 8.37</td><td>8.20</td><td> 9.17</td><td> 8.59</td><td> 8.10</td><td> 8.15</td><td> 8.12</td></tr>\n",
       "\t<tr><td>2022</td><td>Student</td><td>Machado  </td><td> 8.60</td><td> 7.52</td><td> 9.03</td><td> 7.76</td><td> 8.24</td><td>7.50</td><td> 9.36</td><td> 8.00</td><td> 8.85</td><td> 8.21</td><td> 7.45</td></tr>\n",
       "\t<tr><td>2022</td><td>Student</td><td>Ribeiro  </td><td> 7.16</td><td> 7.50</td><td> 7.85</td><td> 7.45</td><td> 7.55</td><td>6.75</td><td> 9.05</td><td> 7.50</td><td> 6.60</td><td> 6.30</td><td> 6.05</td></tr>\n",
       "\t<tr><td>2022</td><td>Student</td><td>Augusto  </td><td> 8.51</td><td> 8.45</td><td> 8.78</td><td> 8.63</td><td> 8.78</td><td>8.38</td><td> 9.40</td><td> 9.05</td><td> 8.38</td><td> 8.59</td><td> 8.41</td></tr>\n",
       "\t<tr><td>2022</td><td>Student</td><td>Marcela  </td><td> 9.31</td><td> 9.55</td><td> 9.71</td><td> 9.36</td><td> 9.55</td><td>8.94</td><td> 9.69</td><td> 9.43</td><td> 9.62</td><td> 9.30</td><td> 9.37</td></tr>\n",
       "\t<tr><td>2022</td><td>Student</td><td>Silva    </td><td> 9.54</td><td> 8.63</td><td> 9.21</td><td> 8.88</td><td> 8.88</td><td>8.38</td><td> 9.71</td><td> 9.42</td><td> 8.88</td><td> 8.50</td><td> 8.79</td></tr>\n",
       "\t<tr><td>2022</td><td>Student</td><td>Oliveira </td><td> 7.42</td><td> 6.68</td><td> 7.53</td><td> 7.11</td><td> 6.89</td><td>7.00</td><td> 8.26</td><td> 7.16</td><td> 7.21</td><td> 7.21</td><td> 6.67</td></tr>\n",
       "\t<tr><td>2022</td><td>Student</td><td>Cleonice </td><td> 9.10</td><td> 9.59</td><td> 9.91</td><td> 9.73</td><td> 9.82</td><td>9.29</td><td> 9.86</td><td> 9.45</td><td> 9.91</td><td> 9.86</td><td> 9.43</td></tr>\n",
       "\t<tr><td>2022</td><td>Student</td><td>Emanuela </td><td> 7.88</td><td> 7.54</td><td> 7.97</td><td> 7.94</td><td> 7.64</td><td>4.07</td><td> 8.42</td><td> 7.60</td><td> 7.91</td><td> 7.63</td><td> 7.49</td></tr>\n",
       "\t<tr><td>2022</td><td>Student</td><td>Luiza    </td><td> 9.47</td><td> 8.94</td><td> 9.44</td><td> 8.65</td><td> 8.90</td><td>7.70</td><td> 9.87</td><td> 9.47</td><td> 9.27</td><td> 8.90</td><td> 9.20</td></tr>\n",
       "\t<tr><td>2022</td><td>Student</td><td>Nunes    </td><td> 9.45</td><td> 8.78</td><td> 9.25</td><td> 8.90</td><td> 8.95</td><td>8.52</td><td> 9.22</td><td> 9.20</td><td> 9.18</td><td> 8.90</td><td> 8.97</td></tr>\n",
       "\t<tr><td>2022</td><td>Student</td><td>Samara   </td><td> 5.63</td><td> 4.93</td><td> 5.42</td><td> 5.69</td><td> 5.09</td><td>5.23</td><td> 7.01</td><td> 5.31</td><td> 5.44</td><td> 5.51</td><td> 4.97</td></tr>\n",
       "\t<tr><td>2022</td><td>Student</td><td>Marcela  </td><td> 7.87</td><td> 7.98</td><td> 9.00</td><td> 8.08</td><td> 8.61</td><td>7.30</td><td> 9.73</td><td> 8.33</td><td> 8.33</td><td> 8.29</td><td> 7.59</td></tr>\n",
       "\t<tr><td>2022</td><td>Student</td><td>Regina   </td><td> 8.66</td><td> 7.93</td><td> 8.48</td><td> 8.48</td><td> 8.34</td><td>7.50</td><td> 8.93</td><td> 8.66</td><td> 8.24</td><td> 8.24</td><td> 8.31</td></tr>\n",
       "</tbody>\n",
       "</table>\n"
      ],
      "text/latex": [
       "A spec\\_tbl\\_df: 43 × 14\n",
       "\\begin{tabular}{llllllllllllll}\n",
       " Year & Class & Student & Q1 & Q2 & Q3 & Q4 & Q5 & Q6 & Q7 & Q8 & Q9 & Q10 & Q11\\\\\n",
       " <dbl> & <chr> & <chr> & <dbl> & <dbl> & <dbl> & <dbl> & <dbl> & <dbl> & <dbl> & <dbl> & <dbl> & <dbl> & <dbl>\\\\\n",
       "\\hline\n",
       "\t 2022 & Student & Lucca     &  7.50 &  6.23 &  6.50 &  7.15 &    NA & 5.43 &  8.58 &  8.19 &  7.96 &  7.92 &  6.48\\\\\n",
       "\t 2022 & Student & Salles    & 10.00 & 10.00 & 10.00 & 10.00 & 10.00 &   NA & 10.00 & 10.00 & 10.00 & 10.00 & 10.00\\\\\n",
       "\t 2022 & Student & Bueno     &  9.50 &  9.00 &  9.00 &  9.25 &  9.25 & 8.00 &  9.75 &  9.75 &  7.50 &  7.25 &  8.00\\\\\n",
       "\t 2022 & Student & Simas     &  9.50 &  9.00 &  9.00 &  9.25 &  9.25 & 8.00 &  9.75 &  9.75 &  7.50 &  7.25 &  8.00\\\\\n",
       "\t 2022 & Student & Goncalves &  1.67 &  3.17 &  4.67 &  1.67 &  4.00 & 1.67 &  4.83 &  0.83 &  0.83 &  1.67 &  1.67\\\\\n",
       "\t 2022 & Student & Dornelles &  9.10 &  8.75 &  9.83 &  9.00 &  9.75 & 9.00 &  9.50 &  9.25 &  9.00 &  9.18 &  9.36\\\\\n",
       "\t 2022 & Student & John      &  9.53 &  7.07 &  8.40 &  7.60 &  7.67 & 8.38 &  7.27 &  6.87 &  7.80 &  8.00 &  7.93\\\\\n",
       "\t 2022 & Student & Ramos     &  6.25 &  6.23 &  7.15 &  6.38 &  6.00 & 2.00 &  7.23 &  6.62 &  6.69 &  6.62 &  6.31\\\\\n",
       "\t 2022 & Student & Junior    & 10.00 & 10.00 & 10.00 & 10.00 & 10.00 &   NA & 10.00 & 10.00 & 10.00 & 10.00 & 10.00\\\\\n",
       "\t 2022 & Student & Freitas   &  9.68 &  8.92 &  9.44 &  9.68 &  9.28 & 8.84 &  9.60 &  9.48 &  9.60 &  9.68 &  9.64\\\\\n",
       "\t 2022 & Student & Zelira    &  9.36 &  8.48 &  8.84 &  8.92 &  8.56 & 7.92 &  9.24 &  9.16 &  9.08 &  8.72 &  8.84\\\\\n",
       "\t 2022 & Student & Francisca &  9.60 &  9.50 &  9.70 &  9.75 &  9.75 & 8.86 &  9.75 &  9.85 &  9.85 &  9.75 &  9.65\\\\\n",
       "\t 2022 & Student & Vitor     &  9.61 &  9.78 &  9.91 &  9.17 &  9.87 & 9.27 &  9.91 &  9.50 &  9.65 &  9.43 &  9.26\\\\\n",
       "\t 2022 & Student & Bruno     &  7.50 &  6.23 &  6.50 &  7.15 &  6.65 & 5.43 &  8.58 &  8.19 &  7.96 &  7.92 &  6.48\\\\\n",
       "\t 2022 & Student & Rafael    &  9.52 &  9.17 &    NA &  9.40 &  9.31 & 9.13 &  9.54 &  9.15 &  8.98 &  9.25 &  9.62\\\\\n",
       "\t 2022 & Student & Pinto     &  9.56 &  9.35 &  9.80 &  8.55 &  9.15 & 8.28 &  9.95 &  9.83 &  9.80 &  9.80 &  9.85\\\\\n",
       "\t 2022 & Student & Nunes     &  8.08 &  6.81 &  8.93 &  7.19 &  7.93 & 6.00 &  9.22 &  7.85 &  8.52 &  7.56 &  6.04\\\\\n",
       "\t 2022 & Student & Andrade   &  8.45 &  6.87 &  8.55 &  7.47 &  7.35 & 5.75 &  8.68 &  7.87 &  7.68 &  7.48 &  8.07\\\\\n",
       "\t 2022 & Student & Santos    &  9.37 &  8.38 &  9.38 &  8.62 &  8.90 & 7.67 &  9.59 &  9.55 &  9.45 &  9.21 &  9.28\\\\\n",
       "\t 2022 & Student & Lima      &  8.49 &  8.35 &  8.68 &  8.86 &  8.54 & 8.03 &  9.46 &  8.70 &  8.70 &  8.41 &  8.24\\\\\n",
       "\t 2022 & Student & Gabriel   &  9.83 &  9.55 &  9.45 &  9.68 &  9.70 & 9.85 &  9.93 &  9.68 &  9.65 &  9.60 &  9.73\\\\\n",
       "\t 2022 & Student & Pereira   &  9.06 &  7.74 &  9.42 &  9.05 &  7.89 & 8.17 &  9.79 &  9.11 &  9.61 &  7.84 &  8.06\\\\\n",
       "\t 2022 & Student & Luciano   & 10.00 &  9.36 & 10.00 &  9.43 &  9.21 & 8.27 & 10.00 &  9.93 &  9.71 &  9.79 &  9.57\\\\\n",
       "\t 2022 & Student & Gleiser   &  4.50 &  3.95 &  4.81 &  4.00 &  4.38 & 3.25 &  5.33 &  4.48 &  4.81 &  4.33 &  4.76\\\\\n",
       "\t 2022 & Student & Rafaela   &  8.30 &  5.03 &  7.12 &  6.00 &  6.63 & 6.18 &  8.48 &  6.61 &  8.09 &  7.94 &  5.73\\\\\n",
       "\t 2022 & Student & Silvio    &  9.05 &  8.37 &  9.16 &  8.68 &  9.16 & 8.39 &  9.26 &  7.95 &  9.11 &  8.53 &  8.42\\\\\n",
       "\t 2022 & Student & Pedro     &  9.84 &  9.81 &  9.91 &  9.77 &  9.84 & 9.39 &  9.98 &  9.79 &  9.95 &  9.81 &  9.86\\\\\n",
       "\t 2022 & Student & Adriano   &  7.33 &  6.94 &  7.45 &  7.00 &  6.97 & 6.71 &  9.09 &  7.50 &  8.12 &  6.85 &  7.13\\\\\n",
       "\t 2022 & Student & Carneiro  &  8.78 &  7.89 &  8.19 &  8.07 &  8.04 & 7.62 &  8.67 &  8.19 &  8.48 &  8.48 &  8.27\\\\\n",
       "\t 2022 & Student & Andre     &  7.95 &  8.00 &  8.54 &  8.32 &  8.37 & 8.20 &  9.17 &  8.59 &  8.10 &  8.15 &  8.12\\\\\n",
       "\t 2022 & Student & Machado   &  8.60 &  7.52 &  9.03 &  7.76 &  8.24 & 7.50 &  9.36 &  8.00 &  8.85 &  8.21 &  7.45\\\\\n",
       "\t 2022 & Student & Ribeiro   &  7.16 &  7.50 &  7.85 &  7.45 &  7.55 & 6.75 &  9.05 &  7.50 &  6.60 &  6.30 &  6.05\\\\\n",
       "\t 2022 & Student & Augusto   &  8.51 &  8.45 &  8.78 &  8.63 &  8.78 & 8.38 &  9.40 &  9.05 &  8.38 &  8.59 &  8.41\\\\\n",
       "\t 2022 & Student & Marcela   &  9.31 &  9.55 &  9.71 &  9.36 &  9.55 & 8.94 &  9.69 &  9.43 &  9.62 &  9.30 &  9.37\\\\\n",
       "\t 2022 & Student & Silva     &  9.54 &  8.63 &  9.21 &  8.88 &  8.88 & 8.38 &  9.71 &  9.42 &  8.88 &  8.50 &  8.79\\\\\n",
       "\t 2022 & Student & Oliveira  &  7.42 &  6.68 &  7.53 &  7.11 &  6.89 & 7.00 &  8.26 &  7.16 &  7.21 &  7.21 &  6.67\\\\\n",
       "\t 2022 & Student & Cleonice  &  9.10 &  9.59 &  9.91 &  9.73 &  9.82 & 9.29 &  9.86 &  9.45 &  9.91 &  9.86 &  9.43\\\\\n",
       "\t 2022 & Student & Emanuela  &  7.88 &  7.54 &  7.97 &  7.94 &  7.64 & 4.07 &  8.42 &  7.60 &  7.91 &  7.63 &  7.49\\\\\n",
       "\t 2022 & Student & Luiza     &  9.47 &  8.94 &  9.44 &  8.65 &  8.90 & 7.70 &  9.87 &  9.47 &  9.27 &  8.90 &  9.20\\\\\n",
       "\t 2022 & Student & Nunes     &  9.45 &  8.78 &  9.25 &  8.90 &  8.95 & 8.52 &  9.22 &  9.20 &  9.18 &  8.90 &  8.97\\\\\n",
       "\t 2022 & Student & Samara    &  5.63 &  4.93 &  5.42 &  5.69 &  5.09 & 5.23 &  7.01 &  5.31 &  5.44 &  5.51 &  4.97\\\\\n",
       "\t 2022 & Student & Marcela   &  7.87 &  7.98 &  9.00 &  8.08 &  8.61 & 7.30 &  9.73 &  8.33 &  8.33 &  8.29 &  7.59\\\\\n",
       "\t 2022 & Student & Regina    &  8.66 &  7.93 &  8.48 &  8.48 &  8.34 & 7.50 &  8.93 &  8.66 &  8.24 &  8.24 &  8.31\\\\\n",
       "\\end{tabular}\n"
      ],
      "text/markdown": [
       "\n",
       "A spec_tbl_df: 43 × 14\n",
       "\n",
       "| Year &lt;dbl&gt; | Class &lt;chr&gt; | Student &lt;chr&gt; | Q1 &lt;dbl&gt; | Q2 &lt;dbl&gt; | Q3 &lt;dbl&gt; | Q4 &lt;dbl&gt; | Q5 &lt;dbl&gt; | Q6 &lt;dbl&gt; | Q7 &lt;dbl&gt; | Q8 &lt;dbl&gt; | Q9 &lt;dbl&gt; | Q10 &lt;dbl&gt; | Q11 &lt;dbl&gt; |\n",
       "|---|---|---|---|---|---|---|---|---|---|---|---|---|---|\n",
       "| 2022 | Student | Lucca     |  7.50 |  6.23 |  6.50 |  7.15 |    NA | 5.43 |  8.58 |  8.19 |  7.96 |  7.92 |  6.48 |\n",
       "| 2022 | Student | Salles    | 10.00 | 10.00 | 10.00 | 10.00 | 10.00 |   NA | 10.00 | 10.00 | 10.00 | 10.00 | 10.00 |\n",
       "| 2022 | Student | Bueno     |  9.50 |  9.00 |  9.00 |  9.25 |  9.25 | 8.00 |  9.75 |  9.75 |  7.50 |  7.25 |  8.00 |\n",
       "| 2022 | Student | Simas     |  9.50 |  9.00 |  9.00 |  9.25 |  9.25 | 8.00 |  9.75 |  9.75 |  7.50 |  7.25 |  8.00 |\n",
       "| 2022 | Student | Goncalves |  1.67 |  3.17 |  4.67 |  1.67 |  4.00 | 1.67 |  4.83 |  0.83 |  0.83 |  1.67 |  1.67 |\n",
       "| 2022 | Student | Dornelles |  9.10 |  8.75 |  9.83 |  9.00 |  9.75 | 9.00 |  9.50 |  9.25 |  9.00 |  9.18 |  9.36 |\n",
       "| 2022 | Student | John      |  9.53 |  7.07 |  8.40 |  7.60 |  7.67 | 8.38 |  7.27 |  6.87 |  7.80 |  8.00 |  7.93 |\n",
       "| 2022 | Student | Ramos     |  6.25 |  6.23 |  7.15 |  6.38 |  6.00 | 2.00 |  7.23 |  6.62 |  6.69 |  6.62 |  6.31 |\n",
       "| 2022 | Student | Junior    | 10.00 | 10.00 | 10.00 | 10.00 | 10.00 |   NA | 10.00 | 10.00 | 10.00 | 10.00 | 10.00 |\n",
       "| 2022 | Student | Freitas   |  9.68 |  8.92 |  9.44 |  9.68 |  9.28 | 8.84 |  9.60 |  9.48 |  9.60 |  9.68 |  9.64 |\n",
       "| 2022 | Student | Zelira    |  9.36 |  8.48 |  8.84 |  8.92 |  8.56 | 7.92 |  9.24 |  9.16 |  9.08 |  8.72 |  8.84 |\n",
       "| 2022 | Student | Francisca |  9.60 |  9.50 |  9.70 |  9.75 |  9.75 | 8.86 |  9.75 |  9.85 |  9.85 |  9.75 |  9.65 |\n",
       "| 2022 | Student | Vitor     |  9.61 |  9.78 |  9.91 |  9.17 |  9.87 | 9.27 |  9.91 |  9.50 |  9.65 |  9.43 |  9.26 |\n",
       "| 2022 | Student | Bruno     |  7.50 |  6.23 |  6.50 |  7.15 |  6.65 | 5.43 |  8.58 |  8.19 |  7.96 |  7.92 |  6.48 |\n",
       "| 2022 | Student | Rafael    |  9.52 |  9.17 |    NA |  9.40 |  9.31 | 9.13 |  9.54 |  9.15 |  8.98 |  9.25 |  9.62 |\n",
       "| 2022 | Student | Pinto     |  9.56 |  9.35 |  9.80 |  8.55 |  9.15 | 8.28 |  9.95 |  9.83 |  9.80 |  9.80 |  9.85 |\n",
       "| 2022 | Student | Nunes     |  8.08 |  6.81 |  8.93 |  7.19 |  7.93 | 6.00 |  9.22 |  7.85 |  8.52 |  7.56 |  6.04 |\n",
       "| 2022 | Student | Andrade   |  8.45 |  6.87 |  8.55 |  7.47 |  7.35 | 5.75 |  8.68 |  7.87 |  7.68 |  7.48 |  8.07 |\n",
       "| 2022 | Student | Santos    |  9.37 |  8.38 |  9.38 |  8.62 |  8.90 | 7.67 |  9.59 |  9.55 |  9.45 |  9.21 |  9.28 |\n",
       "| 2022 | Student | Lima      |  8.49 |  8.35 |  8.68 |  8.86 |  8.54 | 8.03 |  9.46 |  8.70 |  8.70 |  8.41 |  8.24 |\n",
       "| 2022 | Student | Gabriel   |  9.83 |  9.55 |  9.45 |  9.68 |  9.70 | 9.85 |  9.93 |  9.68 |  9.65 |  9.60 |  9.73 |\n",
       "| 2022 | Student | Pereira   |  9.06 |  7.74 |  9.42 |  9.05 |  7.89 | 8.17 |  9.79 |  9.11 |  9.61 |  7.84 |  8.06 |\n",
       "| 2022 | Student | Luciano   | 10.00 |  9.36 | 10.00 |  9.43 |  9.21 | 8.27 | 10.00 |  9.93 |  9.71 |  9.79 |  9.57 |\n",
       "| 2022 | Student | Gleiser   |  4.50 |  3.95 |  4.81 |  4.00 |  4.38 | 3.25 |  5.33 |  4.48 |  4.81 |  4.33 |  4.76 |\n",
       "| 2022 | Student | Rafaela   |  8.30 |  5.03 |  7.12 |  6.00 |  6.63 | 6.18 |  8.48 |  6.61 |  8.09 |  7.94 |  5.73 |\n",
       "| 2022 | Student | Silvio    |  9.05 |  8.37 |  9.16 |  8.68 |  9.16 | 8.39 |  9.26 |  7.95 |  9.11 |  8.53 |  8.42 |\n",
       "| 2022 | Student | Pedro     |  9.84 |  9.81 |  9.91 |  9.77 |  9.84 | 9.39 |  9.98 |  9.79 |  9.95 |  9.81 |  9.86 |\n",
       "| 2022 | Student | Adriano   |  7.33 |  6.94 |  7.45 |  7.00 |  6.97 | 6.71 |  9.09 |  7.50 |  8.12 |  6.85 |  7.13 |\n",
       "| 2022 | Student | Carneiro  |  8.78 |  7.89 |  8.19 |  8.07 |  8.04 | 7.62 |  8.67 |  8.19 |  8.48 |  8.48 |  8.27 |\n",
       "| 2022 | Student | Andre     |  7.95 |  8.00 |  8.54 |  8.32 |  8.37 | 8.20 |  9.17 |  8.59 |  8.10 |  8.15 |  8.12 |\n",
       "| 2022 | Student | Machado   |  8.60 |  7.52 |  9.03 |  7.76 |  8.24 | 7.50 |  9.36 |  8.00 |  8.85 |  8.21 |  7.45 |\n",
       "| 2022 | Student | Ribeiro   |  7.16 |  7.50 |  7.85 |  7.45 |  7.55 | 6.75 |  9.05 |  7.50 |  6.60 |  6.30 |  6.05 |\n",
       "| 2022 | Student | Augusto   |  8.51 |  8.45 |  8.78 |  8.63 |  8.78 | 8.38 |  9.40 |  9.05 |  8.38 |  8.59 |  8.41 |\n",
       "| 2022 | Student | Marcela   |  9.31 |  9.55 |  9.71 |  9.36 |  9.55 | 8.94 |  9.69 |  9.43 |  9.62 |  9.30 |  9.37 |\n",
       "| 2022 | Student | Silva     |  9.54 |  8.63 |  9.21 |  8.88 |  8.88 | 8.38 |  9.71 |  9.42 |  8.88 |  8.50 |  8.79 |\n",
       "| 2022 | Student | Oliveira  |  7.42 |  6.68 |  7.53 |  7.11 |  6.89 | 7.00 |  8.26 |  7.16 |  7.21 |  7.21 |  6.67 |\n",
       "| 2022 | Student | Cleonice  |  9.10 |  9.59 |  9.91 |  9.73 |  9.82 | 9.29 |  9.86 |  9.45 |  9.91 |  9.86 |  9.43 |\n",
       "| 2022 | Student | Emanuela  |  7.88 |  7.54 |  7.97 |  7.94 |  7.64 | 4.07 |  8.42 |  7.60 |  7.91 |  7.63 |  7.49 |\n",
       "| 2022 | Student | Luiza     |  9.47 |  8.94 |  9.44 |  8.65 |  8.90 | 7.70 |  9.87 |  9.47 |  9.27 |  8.90 |  9.20 |\n",
       "| 2022 | Student | Nunes     |  9.45 |  8.78 |  9.25 |  8.90 |  8.95 | 8.52 |  9.22 |  9.20 |  9.18 |  8.90 |  8.97 |\n",
       "| 2022 | Student | Samara    |  5.63 |  4.93 |  5.42 |  5.69 |  5.09 | 5.23 |  7.01 |  5.31 |  5.44 |  5.51 |  4.97 |\n",
       "| 2022 | Student | Marcela   |  7.87 |  7.98 |  9.00 |  8.08 |  8.61 | 7.30 |  9.73 |  8.33 |  8.33 |  8.29 |  7.59 |\n",
       "| 2022 | Student | Regina    |  8.66 |  7.93 |  8.48 |  8.48 |  8.34 | 7.50 |  8.93 |  8.66 |  8.24 |  8.24 |  8.31 |\n",
       "\n"
      ],
      "text/plain": [
       "   Year Class   Student   Q1    Q2    Q3    Q4    Q5    Q6   Q7    Q8    Q9   \n",
       "1  2022 Student Lucca      7.50  6.23  6.50  7.15    NA 5.43  8.58  8.19  7.96\n",
       "2  2022 Student Salles    10.00 10.00 10.00 10.00 10.00   NA 10.00 10.00 10.00\n",
       "3  2022 Student Bueno      9.50  9.00  9.00  9.25  9.25 8.00  9.75  9.75  7.50\n",
       "4  2022 Student Simas      9.50  9.00  9.00  9.25  9.25 8.00  9.75  9.75  7.50\n",
       "5  2022 Student Goncalves  1.67  3.17  4.67  1.67  4.00 1.67  4.83  0.83  0.83\n",
       "6  2022 Student Dornelles  9.10  8.75  9.83  9.00  9.75 9.00  9.50  9.25  9.00\n",
       "7  2022 Student John       9.53  7.07  8.40  7.60  7.67 8.38  7.27  6.87  7.80\n",
       "8  2022 Student Ramos      6.25  6.23  7.15  6.38  6.00 2.00  7.23  6.62  6.69\n",
       "9  2022 Student Junior    10.00 10.00 10.00 10.00 10.00   NA 10.00 10.00 10.00\n",
       "10 2022 Student Freitas    9.68  8.92  9.44  9.68  9.28 8.84  9.60  9.48  9.60\n",
       "11 2022 Student Zelira     9.36  8.48  8.84  8.92  8.56 7.92  9.24  9.16  9.08\n",
       "12 2022 Student Francisca  9.60  9.50  9.70  9.75  9.75 8.86  9.75  9.85  9.85\n",
       "13 2022 Student Vitor      9.61  9.78  9.91  9.17  9.87 9.27  9.91  9.50  9.65\n",
       "14 2022 Student Bruno      7.50  6.23  6.50  7.15  6.65 5.43  8.58  8.19  7.96\n",
       "15 2022 Student Rafael     9.52  9.17    NA  9.40  9.31 9.13  9.54  9.15  8.98\n",
       "16 2022 Student Pinto      9.56  9.35  9.80  8.55  9.15 8.28  9.95  9.83  9.80\n",
       "17 2022 Student Nunes      8.08  6.81  8.93  7.19  7.93 6.00  9.22  7.85  8.52\n",
       "18 2022 Student Andrade    8.45  6.87  8.55  7.47  7.35 5.75  8.68  7.87  7.68\n",
       "19 2022 Student Santos     9.37  8.38  9.38  8.62  8.90 7.67  9.59  9.55  9.45\n",
       "20 2022 Student Lima       8.49  8.35  8.68  8.86  8.54 8.03  9.46  8.70  8.70\n",
       "21 2022 Student Gabriel    9.83  9.55  9.45  9.68  9.70 9.85  9.93  9.68  9.65\n",
       "22 2022 Student Pereira    9.06  7.74  9.42  9.05  7.89 8.17  9.79  9.11  9.61\n",
       "23 2022 Student Luciano   10.00  9.36 10.00  9.43  9.21 8.27 10.00  9.93  9.71\n",
       "24 2022 Student Gleiser    4.50  3.95  4.81  4.00  4.38 3.25  5.33  4.48  4.81\n",
       "25 2022 Student Rafaela    8.30  5.03  7.12  6.00  6.63 6.18  8.48  6.61  8.09\n",
       "26 2022 Student Silvio     9.05  8.37  9.16  8.68  9.16 8.39  9.26  7.95  9.11\n",
       "27 2022 Student Pedro      9.84  9.81  9.91  9.77  9.84 9.39  9.98  9.79  9.95\n",
       "28 2022 Student Adriano    7.33  6.94  7.45  7.00  6.97 6.71  9.09  7.50  8.12\n",
       "29 2022 Student Carneiro   8.78  7.89  8.19  8.07  8.04 7.62  8.67  8.19  8.48\n",
       "30 2022 Student Andre      7.95  8.00  8.54  8.32  8.37 8.20  9.17  8.59  8.10\n",
       "31 2022 Student Machado    8.60  7.52  9.03  7.76  8.24 7.50  9.36  8.00  8.85\n",
       "32 2022 Student Ribeiro    7.16  7.50  7.85  7.45  7.55 6.75  9.05  7.50  6.60\n",
       "33 2022 Student Augusto    8.51  8.45  8.78  8.63  8.78 8.38  9.40  9.05  8.38\n",
       "34 2022 Student Marcela    9.31  9.55  9.71  9.36  9.55 8.94  9.69  9.43  9.62\n",
       "35 2022 Student Silva      9.54  8.63  9.21  8.88  8.88 8.38  9.71  9.42  8.88\n",
       "36 2022 Student Oliveira   7.42  6.68  7.53  7.11  6.89 7.00  8.26  7.16  7.21\n",
       "37 2022 Student Cleonice   9.10  9.59  9.91  9.73  9.82 9.29  9.86  9.45  9.91\n",
       "38 2022 Student Emanuela   7.88  7.54  7.97  7.94  7.64 4.07  8.42  7.60  7.91\n",
       "39 2022 Student Luiza      9.47  8.94  9.44  8.65  8.90 7.70  9.87  9.47  9.27\n",
       "40 2022 Student Nunes      9.45  8.78  9.25  8.90  8.95 8.52  9.22  9.20  9.18\n",
       "41 2022 Student Samara     5.63  4.93  5.42  5.69  5.09 5.23  7.01  5.31  5.44\n",
       "42 2022 Student Marcela    7.87  7.98  9.00  8.08  8.61 7.30  9.73  8.33  8.33\n",
       "43 2022 Student Regina     8.66  7.93  8.48  8.48  8.34 7.50  8.93  8.66  8.24\n",
       "   Q10   Q11  \n",
       "1   7.92  6.48\n",
       "2  10.00 10.00\n",
       "3   7.25  8.00\n",
       "4   7.25  8.00\n",
       "5   1.67  1.67\n",
       "6   9.18  9.36\n",
       "7   8.00  7.93\n",
       "8   6.62  6.31\n",
       "9  10.00 10.00\n",
       "10  9.68  9.64\n",
       "11  8.72  8.84\n",
       "12  9.75  9.65\n",
       "13  9.43  9.26\n",
       "14  7.92  6.48\n",
       "15  9.25  9.62\n",
       "16  9.80  9.85\n",
       "17  7.56  6.04\n",
       "18  7.48  8.07\n",
       "19  9.21  9.28\n",
       "20  8.41  8.24\n",
       "21  9.60  9.73\n",
       "22  7.84  8.06\n",
       "23  9.79  9.57\n",
       "24  4.33  4.76\n",
       "25  7.94  5.73\n",
       "26  8.53  8.42\n",
       "27  9.81  9.86\n",
       "28  6.85  7.13\n",
       "29  8.48  8.27\n",
       "30  8.15  8.12\n",
       "31  8.21  7.45\n",
       "32  6.30  6.05\n",
       "33  8.59  8.41\n",
       "34  9.30  9.37\n",
       "35  8.50  8.79\n",
       "36  7.21  6.67\n",
       "37  9.86  9.43\n",
       "38  7.63  7.49\n",
       "39  8.90  9.20\n",
       "40  8.90  8.97\n",
       "41  5.51  4.97\n",
       "42  8.29  7.59\n",
       "43  8.24  8.31"
      ]
     },
     "metadata": {},
     "output_type": "display_data"
    },
    {
     "name": "stdout",
     "output_type": "stream",
     "text": [
      "Rows: 43\n",
      "Columns: 14\n",
      "$ Year    \u001b[3m\u001b[90m<dbl>\u001b[39m\u001b[23m 2022, 2022, 2022, 2022, 2022, 2022, 2022, 2022, 2022, 2022, 20…\n",
      "$ Class   \u001b[3m\u001b[90m<chr>\u001b[39m\u001b[23m \"Student\", \"Student\", \"Student\", \"Student\", \"Student\", \"Studen…\n",
      "$ Student \u001b[3m\u001b[90m<chr>\u001b[39m\u001b[23m \"Lucca\", \"Salles\", \"Bueno\", \"Simas\", \"Goncalves\", \"Dornelles\",…\n",
      "$ Q1      \u001b[3m\u001b[90m<dbl>\u001b[39m\u001b[23m 7.50, 10.00, 9.50, 9.50, 1.67, 9.10, 9.53, 6.25, 10.00, 9.68, …\n",
      "$ Q2      \u001b[3m\u001b[90m<dbl>\u001b[39m\u001b[23m 6.23, 10.00, 9.00, 9.00, 3.17, 8.75, 7.07, 6.23, 10.00, 8.92, …\n",
      "$ Q3      \u001b[3m\u001b[90m<dbl>\u001b[39m\u001b[23m 6.50, 10.00, 9.00, 9.00, 4.67, 9.83, 8.40, 7.15, 10.00, 9.44, …\n",
      "$ Q4      \u001b[3m\u001b[90m<dbl>\u001b[39m\u001b[23m 7.15, 10.00, 9.25, 9.25, 1.67, 9.00, 7.60, 6.38, 10.00, 9.68, …\n",
      "$ Q5      \u001b[3m\u001b[90m<dbl>\u001b[39m\u001b[23m NA, 10.00, 9.25, 9.25, 4.00, 9.75, 7.67, 6.00, 10.00, 9.28, 8.…\n",
      "$ Q6      \u001b[3m\u001b[90m<dbl>\u001b[39m\u001b[23m 5.43, NA, 8.00, 8.00, 1.67, 9.00, 8.38, 2.00, NA, 8.84, 7.92, …\n",
      "$ Q7      \u001b[3m\u001b[90m<dbl>\u001b[39m\u001b[23m 8.58, 10.00, 9.75, 9.75, 4.83, 9.50, 7.27, 7.23, 10.00, 9.60, …\n",
      "$ Q8      \u001b[3m\u001b[90m<dbl>\u001b[39m\u001b[23m 8.19, 10.00, 9.75, 9.75, 0.83, 9.25, 6.87, 6.62, 10.00, 9.48, …\n",
      "$ Q9      \u001b[3m\u001b[90m<dbl>\u001b[39m\u001b[23m 7.96, 10.00, 7.50, 7.50, 0.83, 9.00, 7.80, 6.69, 10.00, 9.60, …\n",
      "$ Q10     \u001b[3m\u001b[90m<dbl>\u001b[39m\u001b[23m 7.92, 10.00, 7.25, 7.25, 1.67, 9.18, 8.00, 6.62, 10.00, 9.68, …\n",
      "$ Q11     \u001b[3m\u001b[90m<dbl>\u001b[39m\u001b[23m 6.48, 10.00, 8.00, 8.00, 1.67, 9.36, 7.93, 6.31, 10.00, 9.64, …\n"
     ]
    }
   ],
   "source": [
    "View(my.data2)\n",
    "glimpse(my.data2)"
   ]
  },
  {
   "cell_type": "markdown",
   "id": "6d81dbc4",
   "metadata": {},
   "source": [
    "> Which of the columns are annotations and which are measurements?\n",
    "\n",
    "* The columns `Year`, `Class`, and `Students` are annotations, and the others are measures.\n",
    "\n",
    "> How many different types of measurement are there?\n",
    "\n",
    "* The data contains 11 measurement columns, each associated with a different question and representing each student's score.\n",
    "\n",
    "> Are all of the measurements of the same type in a single column?\n",
    "\n",
    "* No. The data contains multiple columns with scores assigned to each question.\n",
    "\n",
    "> What is the name of the variable being measured? I has its name in on column?\n",
    "\n",
    "* Analyzing the context of the data, the columns from Q1 to Q11 represent different questions from an assessment. They do not have clear names but are likely scores obtained in the evaluation.\n",
    "\n",
    "> After tidying are there any NA values which should be removed?"
   ]
  },
  {
   "cell_type": "code",
   "execution_count": 13,
   "id": "1b0cdcbb",
   "metadata": {
    "vscode": {
     "languageId": "r"
    }
   },
   "outputs": [
    {
     "data": {
      "text/html": [
       "<table class=\"dataframe\">\n",
       "<caption>A tibble: 6 × 5</caption>\n",
       "<thead>\n",
       "\t<tr><th scope=col>Year</th><th scope=col>Class</th><th scope=col>Student</th><th scope=col>Question</th><th scope=col>Score</th></tr>\n",
       "\t<tr><th scope=col>&lt;dbl&gt;</th><th scope=col>&lt;chr&gt;</th><th scope=col>&lt;chr&gt;</th><th scope=col>&lt;chr&gt;</th><th scope=col>&lt;dbl&gt;</th></tr>\n",
       "</thead>\n",
       "<tbody>\n",
       "\t<tr><td>2022</td><td>Student</td><td>Lucca</td><td>1</td><td>7.50</td></tr>\n",
       "\t<tr><td>2022</td><td>Student</td><td>Lucca</td><td>2</td><td>6.23</td></tr>\n",
       "\t<tr><td>2022</td><td>Student</td><td>Lucca</td><td>3</td><td>6.50</td></tr>\n",
       "\t<tr><td>2022</td><td>Student</td><td>Lucca</td><td>4</td><td>7.15</td></tr>\n",
       "\t<tr><td>2022</td><td>Student</td><td>Lucca</td><td>5</td><td>  NA</td></tr>\n",
       "\t<tr><td>2022</td><td>Student</td><td>Lucca</td><td>6</td><td>5.43</td></tr>\n",
       "</tbody>\n",
       "</table>\n"
      ],
      "text/latex": [
       "A tibble: 6 × 5\n",
       "\\begin{tabular}{lllll}\n",
       " Year & Class & Student & Question & Score\\\\\n",
       " <dbl> & <chr> & <chr> & <chr> & <dbl>\\\\\n",
       "\\hline\n",
       "\t 2022 & Student & Lucca & 1 & 7.50\\\\\n",
       "\t 2022 & Student & Lucca & 2 & 6.23\\\\\n",
       "\t 2022 & Student & Lucca & 3 & 6.50\\\\\n",
       "\t 2022 & Student & Lucca & 4 & 7.15\\\\\n",
       "\t 2022 & Student & Lucca & 5 &   NA\\\\\n",
       "\t 2022 & Student & Lucca & 6 & 5.43\\\\\n",
       "\\end{tabular}\n"
      ],
      "text/markdown": [
       "\n",
       "A tibble: 6 × 5\n",
       "\n",
       "| Year &lt;dbl&gt; | Class &lt;chr&gt; | Student &lt;chr&gt; | Question &lt;chr&gt; | Score &lt;dbl&gt; |\n",
       "|---|---|---|---|---|\n",
       "| 2022 | Student | Lucca | 1 | 7.50 |\n",
       "| 2022 | Student | Lucca | 2 | 6.23 |\n",
       "| 2022 | Student | Lucca | 3 | 6.50 |\n",
       "| 2022 | Student | Lucca | 4 | 7.15 |\n",
       "| 2022 | Student | Lucca | 5 |   NA |\n",
       "| 2022 | Student | Lucca | 6 | 5.43 |\n",
       "\n"
      ],
      "text/plain": [
       "  Year Class   Student Question Score\n",
       "1 2022 Student Lucca   1        7.50 \n",
       "2 2022 Student Lucca   2        6.23 \n",
       "3 2022 Student Lucca   3        6.50 \n",
       "4 2022 Student Lucca   4        7.15 \n",
       "5 2022 Student Lucca   5          NA \n",
       "6 2022 Student Lucca   6        5.43 "
      ]
     },
     "metadata": {},
     "output_type": "display_data"
    }
   ],
   "source": [
    "if (!requireNamespace(\"tidyr\", quietly = TRUE)) install.packages(\"tidyr\")\n",
    "if (!requireNamespace(\"stringr\", quietly = TRUE)) install.packages(\"stringr\")\n",
    "\n",
    "library(tidyr)\n",
    "library(stringr)\n",
    "\n",
    "my.data2.tidy <- my.data2 %>%\n",
    "  pivot_longer(cols = starts_with(\"Q\"),\n",
    "               names_to = \"Question\",\n",
    "               values_to = \"Score\") %>%\n",
    "  mutate(Question = str_remove(Question, \"Q\"))\n",
    "\n",
    "head(my.data2.tidy)"
   ]
  },
  {
   "cell_type": "markdown",
   "id": "0e620cc1",
   "metadata": {},
   "source": [
    "* Yes, there are NA values to be removed\n",
    "\n",
    "> Are there any columns with repeated information in its rows that should be removed?\n",
    "\n",
    "* There is a column for the year and another for the student's class; although this data may be repetitive, it is still important.\n",
    "\n",
    "> Remove NA"
   ]
  },
  {
   "cell_type": "code",
   "execution_count": 14,
   "id": "387adcf2",
   "metadata": {
    "vscode": {
     "languageId": "r"
    }
   },
   "outputs": [
    {
     "data": {
      "text/html": [
       "<table class=\"dataframe\">\n",
       "<caption>A tibble: 6 × 5</caption>\n",
       "<thead>\n",
       "\t<tr><th scope=col>Year</th><th scope=col>Class</th><th scope=col>Student</th><th scope=col>Question</th><th scope=col>Score</th></tr>\n",
       "\t<tr><th scope=col>&lt;dbl&gt;</th><th scope=col>&lt;chr&gt;</th><th scope=col>&lt;chr&gt;</th><th scope=col>&lt;chr&gt;</th><th scope=col>&lt;dbl&gt;</th></tr>\n",
       "</thead>\n",
       "<tbody>\n",
       "\t<tr><td>2022</td><td>Student</td><td>Lucca</td><td>1</td><td>7.50</td></tr>\n",
       "\t<tr><td>2022</td><td>Student</td><td>Lucca</td><td>2</td><td>6.23</td></tr>\n",
       "\t<tr><td>2022</td><td>Student</td><td>Lucca</td><td>3</td><td>6.50</td></tr>\n",
       "\t<tr><td>2022</td><td>Student</td><td>Lucca</td><td>4</td><td>7.15</td></tr>\n",
       "\t<tr><td>2022</td><td>Student</td><td>Lucca</td><td>6</td><td>5.43</td></tr>\n",
       "\t<tr><td>2022</td><td>Student</td><td>Lucca</td><td>7</td><td>8.58</td></tr>\n",
       "</tbody>\n",
       "</table>\n"
      ],
      "text/latex": [
       "A tibble: 6 × 5\n",
       "\\begin{tabular}{lllll}\n",
       " Year & Class & Student & Question & Score\\\\\n",
       " <dbl> & <chr> & <chr> & <chr> & <dbl>\\\\\n",
       "\\hline\n",
       "\t 2022 & Student & Lucca & 1 & 7.50\\\\\n",
       "\t 2022 & Student & Lucca & 2 & 6.23\\\\\n",
       "\t 2022 & Student & Lucca & 3 & 6.50\\\\\n",
       "\t 2022 & Student & Lucca & 4 & 7.15\\\\\n",
       "\t 2022 & Student & Lucca & 6 & 5.43\\\\\n",
       "\t 2022 & Student & Lucca & 7 & 8.58\\\\\n",
       "\\end{tabular}\n"
      ],
      "text/markdown": [
       "\n",
       "A tibble: 6 × 5\n",
       "\n",
       "| Year &lt;dbl&gt; | Class &lt;chr&gt; | Student &lt;chr&gt; | Question &lt;chr&gt; | Score &lt;dbl&gt; |\n",
       "|---|---|---|---|---|\n",
       "| 2022 | Student | Lucca | 1 | 7.50 |\n",
       "| 2022 | Student | Lucca | 2 | 6.23 |\n",
       "| 2022 | Student | Lucca | 3 | 6.50 |\n",
       "| 2022 | Student | Lucca | 4 | 7.15 |\n",
       "| 2022 | Student | Lucca | 6 | 5.43 |\n",
       "| 2022 | Student | Lucca | 7 | 8.58 |\n",
       "\n"
      ],
      "text/plain": [
       "  Year Class   Student Question Score\n",
       "1 2022 Student Lucca   1        7.50 \n",
       "2 2022 Student Lucca   2        6.23 \n",
       "3 2022 Student Lucca   3        6.50 \n",
       "4 2022 Student Lucca   4        7.15 \n",
       "5 2022 Student Lucca   6        5.43 \n",
       "6 2022 Student Lucca   7        8.58 "
      ]
     },
     "metadata": {},
     "output_type": "display_data"
    }
   ],
   "source": [
    "my.data2.tidy <- my.data2.tidy %>%\n",
    "  drop_na()\n",
    "\n",
    "head(my.data2.tidy)"
   ]
  },
  {
   "cell_type": "markdown",
   "id": "b9ee9f1f",
   "metadata": {},
   "source": [
    "> What is the mean and standard deviation of the grades in questions 1 and 2?"
   ]
  },
  {
   "cell_type": "markdown",
   "id": "635759bf",
   "metadata": {
    "vscode": {
     "languageId": "r"
    }
   },
   "source": [
    "Mean and standard deviation Question 1:"
   ]
  },
  {
   "cell_type": "code",
   "execution_count": 15,
   "id": "323b2c76",
   "metadata": {
    "vscode": {
     "languageId": "r"
    }
   },
   "outputs": [
    {
     "data": {
      "text/html": [
       "<table class=\"dataframe\">\n",
       "<caption>A tibble: 1 × 2</caption>\n",
       "<thead>\n",
       "\t<tr><th scope=col>mean_score</th><th scope=col>sd_score</th></tr>\n",
       "\t<tr><th scope=col>&lt;dbl&gt;</th><th scope=col>&lt;dbl&gt;</th></tr>\n",
       "</thead>\n",
       "<tbody>\n",
       "\t<tr><td>8.500233</td><td>1.614545</td></tr>\n",
       "</tbody>\n",
       "</table>\n"
      ],
      "text/latex": [
       "A tibble: 1 × 2\n",
       "\\begin{tabular}{ll}\n",
       " mean\\_score & sd\\_score\\\\\n",
       " <dbl> & <dbl>\\\\\n",
       "\\hline\n",
       "\t 8.500233 & 1.614545\\\\\n",
       "\\end{tabular}\n"
      ],
      "text/markdown": [
       "\n",
       "A tibble: 1 × 2\n",
       "\n",
       "| mean_score &lt;dbl&gt; | sd_score &lt;dbl&gt; |\n",
       "|---|---|\n",
       "| 8.500233 | 1.614545 |\n",
       "\n"
      ],
      "text/plain": [
       "  mean_score sd_score\n",
       "1 8.500233   1.614545"
      ]
     },
     "metadata": {},
     "output_type": "display_data"
    }
   ],
   "source": [
    "stats_question1 <- my.data2.tidy %>%\n",
    "  filter(Question == 1) %>%\n",
    "  summarise(\n",
    "    mean_score = mean(Score, na.rm = TRUE),\n",
    "    sd_score = sd(Score, na.rm = TRUE)\n",
    "  )\n",
    "\n",
    "stats_question1\n"
   ]
  },
  {
   "cell_type": "markdown",
   "id": "c64d2ade",
   "metadata": {},
   "source": [
    "Mean and standard deviation Question 2:"
   ]
  },
  {
   "cell_type": "code",
   "execution_count": 16,
   "id": "9b753448",
   "metadata": {
    "vscode": {
     "languageId": "r"
    }
   },
   "outputs": [
    {
     "data": {
      "text/html": [
       "<table class=\"dataframe\">\n",
       "<caption>A tibble: 1 × 2</caption>\n",
       "<thead>\n",
       "\t<tr><th scope=col>mean_score</th><th scope=col>sd_score</th></tr>\n",
       "\t<tr><th scope=col>&lt;dbl&gt;</th><th scope=col>&lt;dbl&gt;</th></tr>\n",
       "</thead>\n",
       "<tbody>\n",
       "\t<tr><td>7.952326</td><td>1.616007</td></tr>\n",
       "</tbody>\n",
       "</table>\n"
      ],
      "text/latex": [
       "A tibble: 1 × 2\n",
       "\\begin{tabular}{ll}\n",
       " mean\\_score & sd\\_score\\\\\n",
       " <dbl> & <dbl>\\\\\n",
       "\\hline\n",
       "\t 7.952326 & 1.616007\\\\\n",
       "\\end{tabular}\n"
      ],
      "text/markdown": [
       "\n",
       "A tibble: 1 × 2\n",
       "\n",
       "| mean_score &lt;dbl&gt; | sd_score &lt;dbl&gt; |\n",
       "|---|---|\n",
       "| 7.952326 | 1.616007 |\n",
       "\n"
      ],
      "text/plain": [
       "  mean_score sd_score\n",
       "1 7.952326   1.616007"
      ]
     },
     "metadata": {},
     "output_type": "display_data"
    }
   ],
   "source": [
    "stats_question2 <- my.data2.tidy %>%\n",
    "  filter(Question == 2) %>%\n",
    "  summarise(\n",
    "    mean_score = mean(Score, na.rm = TRUE),\n",
    "    sd_score = sd(Score, na.rm = TRUE)\n",
    "  )\n",
    "\n",
    "stats_question2"
   ]
  }
 ],
 "metadata": {
  "kernelspec": {
   "display_name": "R",
   "language": "R",
   "name": "ir"
  },
  "language_info": {
   "codemirror_mode": "r",
   "file_extension": ".r",
   "mimetype": "text/x-r-source",
   "name": "R",
   "pygments_lexer": "r",
   "version": "4.4.1"
  }
 },
 "nbformat": 4,
 "nbformat_minor": 5
}
